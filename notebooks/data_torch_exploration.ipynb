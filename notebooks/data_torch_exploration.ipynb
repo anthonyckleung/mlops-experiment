{
 "cells": [
  {
   "cell_type": "markdown",
   "metadata": {},
   "source": [
    "# EDA and model experimentation with Haberman survival Dataset"
   ]
  },
  {
   "cell_type": "code",
   "execution_count": 174,
   "metadata": {},
   "outputs": [],
   "source": [
    "import pandas as pd\n",
    "import torch\n",
    "import torch.nn as nn \n",
    "import pytorch_lightning as pl\n",
    "\n",
    "from torch.utils.data import DataLoader, Dataset, random_split\n",
    "from torch.nn import functional as F\n",
    "from transformers import AutoTokenizer, AutoModel\n",
    "from sklearn.metrics import accuracy_score"
   ]
  },
  {
   "cell_type": "code",
   "execution_count": 217,
   "metadata": {},
   "outputs": [
    {
     "name": "stderr",
     "output_type": "stream",
     "text": [
      "Global seed set to 42\n"
     ]
    },
    {
     "data": {
      "text/plain": [
       "42"
      ]
     },
     "execution_count": 217,
     "metadata": {},
     "output_type": "execute_result"
    }
   ],
   "source": [
    "# Seed everything\n",
    "pl.seed_everything(42)"
   ]
  },
  {
   "cell_type": "code",
   "execution_count": 2,
   "metadata": {},
   "outputs": [
    {
     "data": {
      "text/plain": [
       "0"
      ]
     },
     "execution_count": 2,
     "metadata": {},
     "output_type": "execute_result"
    }
   ],
   "source": [
    "torch.cuda.device_count()"
   ]
  },
  {
   "cell_type": "code",
   "execution_count": 104,
   "metadata": {},
   "outputs": [],
   "source": [
    "df = pd.read_csv('../data/haberman.csv')"
   ]
  },
  {
   "cell_type": "code",
   "execution_count": 105,
   "metadata": {},
   "outputs": [
    {
     "data": {
      "text/html": [
       "<div>\n",
       "<style scoped>\n",
       "    .dataframe tbody tr th:only-of-type {\n",
       "        vertical-align: middle;\n",
       "    }\n",
       "\n",
       "    .dataframe tbody tr th {\n",
       "        vertical-align: top;\n",
       "    }\n",
       "\n",
       "    .dataframe thead th {\n",
       "        text-align: right;\n",
       "    }\n",
       "</style>\n",
       "<table border=\"1\" class=\"dataframe\">\n",
       "  <thead>\n",
       "    <tr style=\"text-align: right;\">\n",
       "      <th></th>\n",
       "      <th>age</th>\n",
       "      <th>year</th>\n",
       "      <th>n_auxillary_nodes</th>\n",
       "      <th>status</th>\n",
       "    </tr>\n",
       "  </thead>\n",
       "  <tbody>\n",
       "    <tr>\n",
       "      <th>0</th>\n",
       "      <td>30</td>\n",
       "      <td>64</td>\n",
       "      <td>1</td>\n",
       "      <td>1</td>\n",
       "    </tr>\n",
       "    <tr>\n",
       "      <th>1</th>\n",
       "      <td>30</td>\n",
       "      <td>62</td>\n",
       "      <td>3</td>\n",
       "      <td>1</td>\n",
       "    </tr>\n",
       "    <tr>\n",
       "      <th>2</th>\n",
       "      <td>30</td>\n",
       "      <td>65</td>\n",
       "      <td>0</td>\n",
       "      <td>1</td>\n",
       "    </tr>\n",
       "    <tr>\n",
       "      <th>3</th>\n",
       "      <td>31</td>\n",
       "      <td>59</td>\n",
       "      <td>2</td>\n",
       "      <td>1</td>\n",
       "    </tr>\n",
       "    <tr>\n",
       "      <th>4</th>\n",
       "      <td>31</td>\n",
       "      <td>65</td>\n",
       "      <td>4</td>\n",
       "      <td>1</td>\n",
       "    </tr>\n",
       "  </tbody>\n",
       "</table>\n",
       "</div>"
      ],
      "text/plain": [
       "   age  year  n_auxillary_nodes  status\n",
       "0   30    64                  1       1\n",
       "1   30    62                  3       1\n",
       "2   30    65                  0       1\n",
       "3   31    59                  2       1\n",
       "4   31    65                  4       1"
      ]
     },
     "execution_count": 105,
     "metadata": {},
     "output_type": "execute_result"
    }
   ],
   "source": [
    "df.head()"
   ]
  },
  {
   "cell_type": "code",
   "execution_count": 106,
   "metadata": {},
   "outputs": [
    {
     "data": {
      "text/plain": [
       "age                  int64\n",
       "year                 int64\n",
       "n_auxillary_nodes    int64\n",
       "status               int64\n",
       "dtype: object"
      ]
     },
     "execution_count": 106,
     "metadata": {},
     "output_type": "execute_result"
    }
   ],
   "source": [
    "df.dtypes"
   ]
  },
  {
   "cell_type": "code",
   "execution_count": 107,
   "metadata": {},
   "outputs": [
    {
     "data": {
      "text/plain": [
       "2"
      ]
     },
     "execution_count": 107,
     "metadata": {},
     "output_type": "execute_result"
    }
   ],
   "source": [
    "df['status'].nunique()"
   ]
  },
  {
   "cell_type": "code",
   "execution_count": 193,
   "metadata": {},
   "outputs": [],
   "source": [
    "class Config:\n",
    "    file_path = '../data/haberman.csv'\n",
    "    lr = 1e-5\n",
    "    max_len = 64\n",
    "    train_bs = 16\n",
    "    val_bs = 8\n",
    "    trainval_pcent = 0.80\n",
    "    num_workers = 8"
   ]
  },
  {
   "cell_type": "code",
   "execution_count": 194,
   "metadata": {},
   "outputs": [],
   "source": [
    "class HabermanData(Dataset):\n",
    "    def __init__(self, data_df):\n",
    "        data_df = data_df.reset_index(drop=True)\n",
    "        self.features = data_df[['age','year', 'n_auxillary_nodes']].values\n",
    "        self.target = data_df['status'].values\n",
    "        \n",
    "    def __len__(self):\n",
    "        return len(self.target)\n",
    "\n",
    "    def __getitem__(self, idx):\n",
    "        features = torch.tensor(self.features[idx], dtype=torch.float)\n",
    "        targets = torch.tensor(self.target[idx], dtype = torch.long)\n",
    "\n",
    "        return {\"features\": features,\n",
    "                \"targets\": targets}"
   ]
  },
  {
   "cell_type": "code",
   "execution_count": 223,
   "metadata": {},
   "outputs": [],
   "source": [
    "class HabermanDataModule(pl.LightningDataModule):\n",
    "    def __init__(self, data_path):\n",
    "        super().__init__()\n",
    "\n",
    "        self.data = pd.read_csv(data_path)\n",
    "        \n",
    "    def setup(self, stage=None):\n",
    "        data = self.data.sample(frac=1).reset_index(drop=True)\n",
    "        data['status'] = data['status'] - 1\n",
    "\n",
    "        dataset = HabermanData(data)\n",
    "\n",
    "        # Split data into train, validation, and testing\n",
    "        trainval_size = int(Config.trainval_pcent * len(data))\n",
    "        train_size = int(trainval_size*0.8)\n",
    "\n",
    "        val_size = trainval_size - train_size\n",
    "        test_size = len(data) - trainval_size\n",
    "\n",
    "        trainval_set, test_set = random_split(dataset, [trainval_size, test_size])\n",
    "        train_set, val_set = random_split(trainval_set, [train_size, val_size])\n",
    "        \n",
    "        if (stage == 'fit') or (stage is None):\n",
    "            self.training_set = train_set\n",
    "            self.validation_set = val_set\n",
    "        \n",
    "        if stage == 'test':\n",
    "            self.testing_set = test_set\n",
    " \n",
    "    def train_dataloader(self):\n",
    "        train_loader = DataLoader(\n",
    "            self.training_set,\n",
    "            batch_size = Config.train_bs,\n",
    "            shuffle=False,\n",
    "            num_workers = 0\n",
    "        )\n",
    "        return train_loader\n",
    "\n",
    "    def val_dataloader(self):\n",
    "        val_loader = DataLoader(\n",
    "            self.training_set,\n",
    "            batch_size = Config.val_bs,\n",
    "            shuffle=False,\n",
    "            num_workers = 0\n",
    "        )\n",
    "        return val_loader\n",
    "\n",
    "    def test_dataloader(self):\n",
    "        test_loader = DataLoader(\n",
    "            self.testing_set,\n",
    "            batch_size = Config.val_bs,\n",
    "            shuffle=False,\n",
    "            num_workers = 0\n",
    "        )\n",
    "        return test_loader\n",
    "        "
   ]
  },
  {
   "cell_type": "code",
   "execution_count": 229,
   "metadata": {},
   "outputs": [],
   "source": [
    "class HabermanModel(pl.LightningModule):\n",
    "    def __init__(self, lr=1e-2):\n",
    "        super(HabermanModel, self).__init__()\n",
    "        self.save_hyperparameters()\n",
    "        self.fc1 = nn.Linear(3, 10)\n",
    "        self.fc2 = nn.Linear(10, 2)\n",
    "\n",
    "        self.ann = nn.Sequential(\n",
    "                nn.Linear(3, 10),\n",
    "                nn.ReLU(),\n",
    "                nn.Linear(10, 2),\n",
    "        )\n",
    "        # self.dropout = nn.Dropout(0.4)\n",
    "        \n",
    "        # self.W = nn.Linear(self.distilbert.config.hidden_size, 2)\n",
    "        # self.num_classes = 5\n",
    "\n",
    "    def forward(self, x):\n",
    "        x = self.ann(x)\n",
    "        return x\n",
    "\n",
    "\n",
    "    def training_step(self, batch, batch_idx):\n",
    "        logits = self.forward(batch[\"features\"])\n",
    "        loss = self.loss_func(logits, batch['targets'])\n",
    "        self.log(\"train_loss\", loss, prog_bar=True)\n",
    "        return loss\n",
    "\n",
    "    def validation_step(self, batch, batch_idx):\n",
    "        logits = self.forward(batch[\"features\"])\n",
    "        loss = self.loss_func(logits, batch['targets'])\n",
    "        _, preds = torch.max(logits, dim=1)\n",
    "        val_acc = accuracy_score(preds.cpu(), batch[\"targets\"].cpu())\n",
    "        val_acc = torch.tensor(val_acc)\n",
    "        self.log(\"val_loss\", loss, prog_bar=True)\n",
    "        self.log(\"val_acc\", val_acc, prog_bar=True)\n",
    "\n",
    "    def test_step(self, batch, batch_idx):\n",
    "        logits = self.forward(batch[\"features\"])\n",
    "        loss = self.loss_func(logits, batch['targets'])\n",
    "        _, preds = torch.max(logits, dim=1)\n",
    "        test_acc = accuracy_score(preds.cpu(), batch[\"targets\"].cpu())\n",
    "        self.log(\"test_loss\", loss)\n",
    "        self.log(\"test_acc\", test_acc) \n",
    "        \n",
    "\n",
    "    def loss_func(self, pred, target):\n",
    "        return F.cross_entropy(pred, target)\n",
    "\n",
    "    def configure_optimizers(self):\n",
    "        return torch.optim.Adam(self.parameters(), lr=self.hparams[\"lr\"])"
   ]
  },
  {
   "cell_type": "markdown",
   "metadata": {},
   "source": [
    "# Training"
   ]
  },
  {
   "cell_type": "code",
   "execution_count": 232,
   "metadata": {},
   "outputs": [],
   "source": [
    "# Callback\n",
    "checkpoint_callback = pl.callbacks.ModelCheckpoint(\n",
    "    dirpath = \"./models\",\n",
    "    monitor = \"val_loss\",\n",
    "    mode = \"min\"\n",
    ")"
   ]
  },
  {
   "cell_type": "code",
   "execution_count": 233,
   "metadata": {},
   "outputs": [
    {
     "name": "stderr",
     "output_type": "stream",
     "text": [
      "GPU available: False, used: False\n",
      "TPU available: False, using: 0 TPU cores\n",
      "IPU available: False, using: 0 IPUs\n",
      "\n",
      "  | Name | Type       | Params\n",
      "------------------------------------\n",
      "0 | fc1  | Linear     | 40    \n",
      "1 | fc2  | Linear     | 22    \n",
      "2 | ann  | Sequential | 62    \n",
      "------------------------------------\n",
      "124       Trainable params\n",
      "0         Non-trainable params\n",
      "124       Total params\n",
      "0.000     Total estimated model params size (MB)\n"
     ]
    },
    {
     "name": "stdout",
     "output_type": "stream",
     "text": [
      "                                                              "
     ]
    },
    {
     "name": "stderr",
     "output_type": "stream",
     "text": [
      "e:\\Projects\\mlops-experiment\\venv\\lib\\site-packages\\pytorch_lightning\\trainer\\data_loading.py:116: UserWarning: The dataloader, val_dataloader 0, does not have many workers which may be a bottleneck. Consider increasing the value of the `num_workers` argument` (try 8 which is the number of cpus on this machine) in the `DataLoader` init to improve performance.\n",
      "  rank_zero_warn(\n",
      "Global seed set to 42\n",
      "e:\\Projects\\mlops-experiment\\venv\\lib\\site-packages\\pytorch_lightning\\trainer\\data_loading.py:116: UserWarning: The dataloader, train_dataloader, does not have many workers which may be a bottleneck. Consider increasing the value of the `num_workers` argument` (try 8 which is the number of cpus on this machine) in the `DataLoader` init to improve performance.\n",
      "  rank_zero_warn(\n"
     ]
    },
    {
     "name": "stdout",
     "output_type": "stream",
     "text": [
      "Epoch 9: 100%|██████████| 38/38 [00:00<00:00, 222.22it/s, loss=0.596, v_num=0, train_loss=0.755, val_loss=0.518, val_acc=0.785]\n"
     ]
    }
   ],
   "source": [
    "data = HabermanDataModule(Config.file_path)\n",
    "model = HabermanModel()\n",
    "\n",
    "trainer = pl.Trainer(\n",
    "    # gpus=(1 if torch.cuda.is_available() else 0),\n",
    "    max_epochs=10,\n",
    "    fast_dev_run=False,\n",
    "    accelerator='cpu',\n",
    "    log_every_n_steps = 5,\n",
    "    callbacks = [checkpoint_callback]\n",
    ")\n",
    "trainer.fit(model, data)"
   ]
  },
  {
   "cell_type": "code",
   "execution_count": 231,
   "metadata": {},
   "outputs": [
    {
     "name": "stderr",
     "output_type": "stream",
     "text": [
      "e:\\Projects\\mlops-experiment\\venv\\lib\\site-packages\\pytorch_lightning\\trainer\\data_loading.py:116: UserWarning: The dataloader, test_dataloader 0, does not have many workers which may be a bottleneck. Consider increasing the value of the `num_workers` argument` (try 8 which is the number of cpus on this machine) in the `DataLoader` init to improve performance.\n",
      "  rank_zero_warn(\n"
     ]
    },
    {
     "name": "stdout",
     "output_type": "stream",
     "text": [
      "Testing: 0it [00:00, ?it/s]--------------------------------------------------------------------------------\n",
      "DATALOADER:0 TEST RESULTS\n",
      "{'test_acc': 0.6935483813285828, 'test_loss': 0.576137125492096}\n",
      "--------------------------------------------------------------------------------\n",
      "Testing: 100%|██████████| 8/8 [00:00<00:00, 347.94it/s]\n"
     ]
    },
    {
     "data": {
      "text/plain": [
       "[{'test_loss': 0.576137125492096, 'test_acc': 0.6935483813285828}]"
      ]
     },
     "execution_count": 231,
     "metadata": {},
     "output_type": "execute_result"
    }
   ],
   "source": [
    "# Perform evaluation\n",
    "trainer.test(model, data)"
   ]
  },
  {
   "cell_type": "code",
   "execution_count": 234,
   "metadata": {},
   "outputs": [
    {
     "data": {
      "text/plain": [
       "'e:\\\\Projects\\\\mlops-experiment\\\\notebooks\\\\lightning_logs\\\\version_0'"
      ]
     },
     "execution_count": 234,
     "metadata": {},
     "output_type": "execute_result"
    }
   ],
   "source": [
    "trainer.logger.log_dir"
   ]
  },
  {
   "cell_type": "code",
   "execution_count": 248,
   "metadata": {},
   "outputs": [],
   "source": [
    "class HabermanPredictor:\n",
    "    def __init__(self, model_path):\n",
    "        self.model_path = model_path \n",
    "        self.model = HabermanModel.load_from_checkpoint(model_path)\n",
    "        self.model.eval()\n",
    "        self.model.freeze()\n",
    "        self.processor = HabermanDataModule(Config.file_path)\n",
    "        self.softmax = torch.nn.Softmax(dim=0)\n",
    "        self.labels = [\"survived\", \"did not survived\"]\n",
    "\n",
    "    def predict(self, input):\n",
    "        logits = self.model(\n",
    "            torch.tensor([input], dtype=torch.float)\n",
    "        )\n",
    "        scores = self.softmax(logits[0]).tolist()\n",
    "        predictions = []\n",
    "        for score, label in zip(scores, self.labels):\n",
    "            predictions.append({'label': label, 'score': score})\n",
    "        return predictions\n"
   ]
  },
  {
   "cell_type": "code",
   "execution_count": 249,
   "metadata": {},
   "outputs": [],
   "source": [
    "predictor = HabermanPredictor(\"./models/epoch=8-step=116.ckpt\")"
   ]
  },
  {
   "cell_type": "code",
   "execution_count": 250,
   "metadata": {},
   "outputs": [
    {
     "data": {
      "text/plain": [
       "[{'label': 'survived', 'score': 0.8074608445167542},\n",
       " {'label': 'did not survived', 'score': 0.19253917038440704}]"
      ]
     },
     "execution_count": 250,
     "metadata": {},
     "output_type": "execute_result"
    }
   ],
   "source": [
    "predictor.predict([34, 60, 0])"
   ]
  },
  {
   "cell_type": "code",
   "execution_count": null,
   "metadata": {},
   "outputs": [],
   "source": []
  }
 ],
 "metadata": {
  "interpreter": {
   "hash": "ba66de5986d9256513466eb4e98775d50d89d1f8f63cf5e0c1006ea51a06db43"
  },
  "kernelspec": {
   "display_name": "Python 3.8.8 64-bit ('venv': venv)",
   "language": "python",
   "name": "python3"
  },
  "language_info": {
   "codemirror_mode": {
    "name": "ipython",
    "version": 3
   },
   "file_extension": ".py",
   "mimetype": "text/x-python",
   "name": "python",
   "nbconvert_exporter": "python",
   "pygments_lexer": "ipython3",
   "version": "3.8.8"
  },
  "orig_nbformat": 4
 },
 "nbformat": 4,
 "nbformat_minor": 2
}
