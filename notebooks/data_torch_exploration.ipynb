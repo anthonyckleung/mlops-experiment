{
 "cells": [
  {
   "cell_type": "markdown",
   "metadata": {},
   "source": [
    "# EDA and model experimentation with Haberman survival Dataset"
   ]
  },
  {
   "cell_type": "code",
   "execution_count": 2,
   "metadata": {},
   "outputs": [],
   "source": [
    "import hydra\n",
    "import os\n",
    "import pandas as pd\n",
    "import torch\n",
    "import torch.nn as nn \n",
    "import torchmetrics\n",
    "import pytorch_lightning as pl\n",
    "import wandb\n",
    "\n",
    "from dotenv import load_dotenv\n",
    "from hydra import initialize, initialize_config_module, initialize_config_dir, compose\n",
    "from omegaconf import OmegaConf\n",
    "from pytorch_lightning.loggers import WandbLogger\n",
    "from torch.utils.data import DataLoader, Dataset, random_split\n",
    "from torch.nn import functional as F\n",
    "from sklearn.metrics import accuracy_score"
   ]
  },
  {
   "cell_type": "code",
   "execution_count": 3,
   "metadata": {},
   "outputs": [
    {
     "data": {
      "text/plain": [
       "True"
      ]
     },
     "execution_count": 3,
     "metadata": {},
     "output_type": "execute_result"
    }
   ],
   "source": [
    "load_dotenv()"
   ]
  },
  {
   "cell_type": "code",
   "execution_count": 40,
   "metadata": {},
   "outputs": [
    {
     "name": "stdout",
     "output_type": "stream",
     "text": [
      "{'processing': 'batch_size:16', 'training': {'train_bs': 16, 'val_bs': 8, 'lr': 0.01, 'max_epoch': 10, 'log_every_n_steps': 2}}\n"
     ]
    }
   ],
   "source": [
    "# Load config file via Hydra\n",
    "with initialize(config_path=\"../configs\"):\n",
    "    cfg = compose(config_name=\"config.yaml\")\n",
    "    print(cfg)"
   ]
  },
  {
   "cell_type": "code",
   "execution_count": 4,
   "metadata": {},
   "outputs": [],
   "source": [
    "WANDB_API_KEY = os.getenv(\"WANDB_API_KEY\")"
   ]
  },
  {
   "cell_type": "code",
   "execution_count": 5,
   "metadata": {},
   "outputs": [
    {
     "name": "stderr",
     "output_type": "stream",
     "text": [
      "Failed to detect the name of this notebook, you can set it manually with the WANDB_NOTEBOOK_NAME environment variable to enable code saving.\n",
      "\u001b[34m\u001b[1mwandb\u001b[0m: Currently logged in as: \u001b[33manthonyckleung\u001b[0m (use `wandb login --relogin` to force relogin)\n",
      "\u001b[34m\u001b[1mwandb\u001b[0m: \u001b[33mWARNING\u001b[0m If you're specifying your api key in code, ensure this code is not shared publically.\n",
      "\u001b[34m\u001b[1mwandb\u001b[0m: \u001b[33mWARNING\u001b[0m Consider setting the WANDB_API_KEY environment variable, or running `wandb login` from the command line.\n",
      "\u001b[34m\u001b[1mwandb\u001b[0m: Appending key for api.wandb.ai to your netrc file: C:\\Users\\Anthony/.netrc\n"
     ]
    },
    {
     "data": {
      "text/plain": [
       "True"
      ]
     },
     "execution_count": 5,
     "metadata": {},
     "output_type": "execute_result"
    }
   ],
   "source": [
    "wandb.login(key=WANDB_API_KEY)"
   ]
  },
  {
   "cell_type": "code",
   "execution_count": 6,
   "metadata": {},
   "outputs": [],
   "source": [
    "wandb_logger = WandbLogger(project=\"MLOps Basics\")"
   ]
  },
  {
   "cell_type": "code",
   "execution_count": 7,
   "metadata": {},
   "outputs": [
    {
     "name": "stderr",
     "output_type": "stream",
     "text": [
      "Global seed set to 42\n"
     ]
    },
    {
     "data": {
      "text/plain": [
       "42"
      ]
     },
     "execution_count": 7,
     "metadata": {},
     "output_type": "execute_result"
    }
   ],
   "source": [
    "# Seed everything\n",
    "pl.seed_everything(42)"
   ]
  },
  {
   "cell_type": "code",
   "execution_count": 8,
   "metadata": {},
   "outputs": [
    {
     "data": {
      "text/plain": [
       "0"
      ]
     },
     "execution_count": 8,
     "metadata": {},
     "output_type": "execute_result"
    }
   ],
   "source": [
    "torch.cuda.device_count()"
   ]
  },
  {
   "cell_type": "code",
   "execution_count": 9,
   "metadata": {},
   "outputs": [],
   "source": [
    "df = pd.read_csv('../data/haberman.csv')"
   ]
  },
  {
   "cell_type": "code",
   "execution_count": 10,
   "metadata": {},
   "outputs": [
    {
     "data": {
      "text/html": [
       "<div>\n",
       "<style scoped>\n",
       "    .dataframe tbody tr th:only-of-type {\n",
       "        vertical-align: middle;\n",
       "    }\n",
       "\n",
       "    .dataframe tbody tr th {\n",
       "        vertical-align: top;\n",
       "    }\n",
       "\n",
       "    .dataframe thead th {\n",
       "        text-align: right;\n",
       "    }\n",
       "</style>\n",
       "<table border=\"1\" class=\"dataframe\">\n",
       "  <thead>\n",
       "    <tr style=\"text-align: right;\">\n",
       "      <th></th>\n",
       "      <th>age</th>\n",
       "      <th>year</th>\n",
       "      <th>n_auxillary_nodes</th>\n",
       "      <th>status</th>\n",
       "    </tr>\n",
       "  </thead>\n",
       "  <tbody>\n",
       "    <tr>\n",
       "      <th>0</th>\n",
       "      <td>30</td>\n",
       "      <td>64</td>\n",
       "      <td>1</td>\n",
       "      <td>1</td>\n",
       "    </tr>\n",
       "    <tr>\n",
       "      <th>1</th>\n",
       "      <td>30</td>\n",
       "      <td>62</td>\n",
       "      <td>3</td>\n",
       "      <td>1</td>\n",
       "    </tr>\n",
       "    <tr>\n",
       "      <th>2</th>\n",
       "      <td>30</td>\n",
       "      <td>65</td>\n",
       "      <td>0</td>\n",
       "      <td>1</td>\n",
       "    </tr>\n",
       "    <tr>\n",
       "      <th>3</th>\n",
       "      <td>31</td>\n",
       "      <td>59</td>\n",
       "      <td>2</td>\n",
       "      <td>1</td>\n",
       "    </tr>\n",
       "    <tr>\n",
       "      <th>4</th>\n",
       "      <td>31</td>\n",
       "      <td>65</td>\n",
       "      <td>4</td>\n",
       "      <td>1</td>\n",
       "    </tr>\n",
       "  </tbody>\n",
       "</table>\n",
       "</div>"
      ],
      "text/plain": [
       "   age  year  n_auxillary_nodes  status\n",
       "0   30    64                  1       1\n",
       "1   30    62                  3       1\n",
       "2   30    65                  0       1\n",
       "3   31    59                  2       1\n",
       "4   31    65                  4       1"
      ]
     },
     "execution_count": 10,
     "metadata": {},
     "output_type": "execute_result"
    }
   ],
   "source": [
    "df.head()"
   ]
  },
  {
   "cell_type": "code",
   "execution_count": 11,
   "metadata": {},
   "outputs": [
    {
     "data": {
      "text/plain": [
       "age                  int64\n",
       "year                 int64\n",
       "n_auxillary_nodes    int64\n",
       "status               int64\n",
       "dtype: object"
      ]
     },
     "execution_count": 11,
     "metadata": {},
     "output_type": "execute_result"
    }
   ],
   "source": [
    "df.dtypes"
   ]
  },
  {
   "cell_type": "code",
   "execution_count": 12,
   "metadata": {},
   "outputs": [
    {
     "data": {
      "text/plain": [
       "2"
      ]
     },
     "execution_count": 12,
     "metadata": {},
     "output_type": "execute_result"
    }
   ],
   "source": [
    "df['status'].nunique()"
   ]
  },
  {
   "cell_type": "code",
   "execution_count": 13,
   "metadata": {},
   "outputs": [],
   "source": [
    "class Config:\n",
    "    file_path = '../data/haberman.csv'\n",
    "    lr = 1e-5\n",
    "    max_len = 64\n",
    "    train_bs = 16\n",
    "    val_bs = 8\n",
    "    trainval_pcent = 0.80\n",
    "    num_workers = 8"
   ]
  },
  {
   "cell_type": "code",
   "execution_count": 14,
   "metadata": {},
   "outputs": [],
   "source": [
    "class HabermanData(Dataset):\n",
    "    def __init__(self, data_df):\n",
    "        data_df = data_df.reset_index(drop=True)\n",
    "        self.features = data_df[['age','year', 'n_auxillary_nodes']].values\n",
    "        self.target = data_df['status'].values\n",
    "        \n",
    "    def __len__(self):\n",
    "        return len(self.target)\n",
    "\n",
    "    def __getitem__(self, idx):\n",
    "        features = torch.tensor(self.features[idx], dtype=torch.float)\n",
    "        targets = torch.tensor(self.target[idx], dtype = torch.long)\n",
    "\n",
    "        return {\"features\": features,\n",
    "                \"targets\": targets}"
   ]
  },
  {
   "cell_type": "code",
   "execution_count": 15,
   "metadata": {},
   "outputs": [],
   "source": [
    "class HabermanDataModule(pl.LightningDataModule):\n",
    "    def __init__(self, data_path, train_bs, val_bs):\n",
    "        super().__init__()\n",
    "        self.data = pd.read_csv(data_path)\n",
    "        self.train_bs = train_bs \n",
    "        self.val_bs = val_bs\n",
    "        \n",
    "    def setup(self, stage=None):\n",
    "        data = self.data.sample(frac=1).reset_index(drop=True)\n",
    "        data['status'] = data['status'] - 1\n",
    "\n",
    "        dataset = HabermanData(data)\n",
    "\n",
    "        # Split data into train, validation, and testing\n",
    "        trainval_size = int(Config.trainval_pcent * len(data))\n",
    "        train_size = int(trainval_size*0.8)\n",
    "\n",
    "        val_size = trainval_size - train_size\n",
    "        test_size = len(data) - trainval_size\n",
    "\n",
    "        trainval_set, test_set = random_split(dataset, [trainval_size, test_size])\n",
    "        train_set, val_set = random_split(trainval_set, [train_size, val_size])\n",
    "        \n",
    "        if (stage == 'fit') or (stage is None):\n",
    "            self.training_set = train_set\n",
    "            self.validation_set = val_set\n",
    "        \n",
    "        if stage == 'test':\n",
    "            self.testing_set = test_set\n",
    " \n",
    "    def train_dataloader(self):\n",
    "        train_loader = DataLoader(\n",
    "            self.training_set,\n",
    "            batch_size = self.train_bs,\n",
    "            shuffle=False,\n",
    "            num_workers = 0\n",
    "        )\n",
    "        return train_loader\n",
    "\n",
    "    def val_dataloader(self):\n",
    "        val_loader = DataLoader(\n",
    "            self.validation_set,\n",
    "            batch_size = self.val_bs,\n",
    "            shuffle=False,\n",
    "            num_workers = 0\n",
    "        )\n",
    "        return val_loader\n",
    "\n",
    "    def test_dataloader(self):\n",
    "        test_loader = DataLoader(\n",
    "            self.testing_set,\n",
    "            batch_size = self.val_bs,\n",
    "            shuffle=False,\n",
    "            num_workers = 0\n",
    "        )\n",
    "        return test_loader\n",
    "        "
   ]
  },
  {
   "cell_type": "code",
   "execution_count": 16,
   "metadata": {},
   "outputs": [],
   "source": [
    "class HabermanANN(pl.LightningModule):\n",
    "    def __init__(self, lr=1e-2):\n",
    "        super(HabermanANN, self).__init__()\n",
    "        self.num_classes = 2\n",
    "        self.save_hyperparameters()\n",
    "        self.fc1 = nn.Linear(3, 10)\n",
    "        self.fc2 = nn.Linear(10, 2)\n",
    "\n",
    "        self.ann = nn.Sequential(\n",
    "                nn.Linear(3, 10),\n",
    "                nn.ReLU(),\n",
    "                nn.Linear(10, 2),\n",
    "        )\n",
    "        self.train_accuracy_metric = torchmetrics.Accuracy()\n",
    "        self.val_accuracy_metric = torchmetrics.Accuracy()\n",
    "        self.f1_metric = torchmetrics.F1(num_classes=self.num_classes)\n",
    "        self.precision_macro_metric = torchmetrics.Precision(\n",
    "            average=\"macro\", num_classes=self.num_classes\n",
    "        )\n",
    "        self.recall_macro_metric = torchmetrics.Recall(\n",
    "            average=\"macro\", num_classes=self.num_classes\n",
    "        )\n",
    "        self.precision_micro_metric = torchmetrics.Precision(average=\"micro\")\n",
    "        self.recall_micro_metric = torchmetrics.Recall(average=\"micro\")\n",
    "        \n",
    "\n",
    "    def forward(self, x):\n",
    "        x = self.ann(x)\n",
    "        return x\n",
    "\n",
    "\n",
    "    def training_step(self, batch, batch_idx):\n",
    "        logits = self.forward(batch[\"features\"])\n",
    "        loss = self.loss_func(logits, batch['targets'])\n",
    "        train_acc = self.train_accuracy_metric(logits, batch[\"targets\"])\n",
    "        self.log(\"train/loss\", loss, prog_bar=True, on_epoch=True)\n",
    "        self.log(\"train/acc\", train_acc, prog_bar=True, on_epoch=True)\n",
    "        return loss\n",
    "\n",
    "    def validation_step(self, batch, batch_idx):\n",
    "        logits = self.forward(batch[\"features\"])\n",
    "        loss = self.loss_func(logits, batch['targets'])\n",
    "        _, preds = torch.max(logits, dim=1)\n",
    "        val_acc = accuracy_score(preds.cpu(), batch[\"targets\"].cpu())\n",
    "        val_acc = torch.tensor(val_acc)\n",
    "\n",
    "        # Metrics\n",
    "        valid_acc = self.val_accuracy_metric(preds, batch[\"targets\"])\n",
    "        precision_macro = self.precision_macro_metric(preds, batch[\"targets\"])\n",
    "        recall_macro = self.recall_macro_metric(preds, batch[\"targets\"])\n",
    "        precision_micro = self.precision_micro_metric(preds, batch[\"targets\"])\n",
    "        recall_micro = self.recall_micro_metric(preds, batch[\"targets\"])\n",
    "        f1 = self.f1_metric(preds, batch[\"targets\"])\n",
    "\n",
    "        self.log(\"val/loss\", loss, prog_bar=True, on_step=True)\n",
    "        self.log(\"val/acc\", val_acc, prog_bar=True)\n",
    "        self.log(\"val/precision_macro\", precision_macro, prog_bar=True)\n",
    "        self.log(\"val/recall_macro\",recall_macro, prog_bar=True)\n",
    "        self.log(\"val/precision_micro\", precision_micro, prog_bar=True)\n",
    "        self.log(\"val/recall_micro\", recall_micro, prog_bar=True)\n",
    "        self.log(\"val/f1\", f1, prog_bar=True)\n",
    "        return {\"targets\": batch[\"targets\"], \"logits\": logits}\n",
    "\n",
    "    def test_step(self, batch, batch_idx):\n",
    "        logits = self.forward(batch[\"features\"])\n",
    "        loss = self.loss_func(logits, batch['targets'])\n",
    "        _, preds = torch.max(logits, dim=1)\n",
    "        test_acc = accuracy_score(preds.cpu(), batch[\"targets\"].cpu())\n",
    "        self.log(\"test_loss\", loss)\n",
    "        self.log(\"test_acc\", test_acc) \n",
    "        \n",
    "\n",
    "    def loss_func(self, pred, target):\n",
    "        return F.cross_entropy(pred, target)\n",
    "\n",
    "    def validation_epoch_end(self, outputs):\n",
    "        labels = torch.cat([x[\"targets\"] for x in outputs])\n",
    "        logits = torch.cat([x[\"logits\"] for x in outputs])\n",
    "        preds = torch.argmax(logits, 1)\n",
    "\n",
    "        ## There are multiple ways to track the metrics\n",
    "        # 1. Confusion matrix plotting using inbuilt W&B method\n",
    "        self.logger.experiment.log(\n",
    "            {\n",
    "                \"conf\": wandb.plot.confusion_matrix(\n",
    "                    probs=logits.numpy(), y_true=labels.numpy()\n",
    "                )\n",
    "            }\n",
    "        )\n",
    "\n",
    "        # 2. Confusion Matrix plotting using scikit-learn method\n",
    "        # wandb.log({\"cm\": wandb.sklearn.plot_confusion_matrix(labels.numpy(), preds)})\n",
    "\n",
    "        # 3. Confusion Matric plotting using Seaborn\n",
    "        # data = confusion_matrix(labels.numpy(), preds.numpy())\n",
    "        # df_cm = pd.DataFrame(data, columns=np.unique(labels), index=np.unique(labels))\n",
    "        # df_cm.index.name = \"Actual\"\n",
    "        # df_cm.columns.name = \"Predicted\"\n",
    "        # plt.figure(figsize=(7, 4))\n",
    "        # plot = sns.heatmap(\n",
    "        #     df_cm, cmap=\"Blues\", annot=True, annot_kws={\"size\": 16}\n",
    "        # )  # font size\n",
    "        # self.logger.experiment.log({\"Confusion Matrix\": wandb.Image(plot)})\n",
    "\n",
    "        # self.logger.experiment.log(\n",
    "        #     {\"roc\": wandb.plot.roc_curve(labels.numpy(), logits.numpy())}\n",
    "        # )\n",
    "\n",
    "    def configure_optimizers(self):\n",
    "        return torch.optim.Adam(self.parameters(), lr=self.hparams[\"lr\"])"
   ]
  },
  {
   "cell_type": "code",
   "execution_count": 17,
   "metadata": {},
   "outputs": [],
   "source": [
    "class SamplesVisualisationLogger(pl.Callback):\n",
    "    def __init__(self, datamodule):\n",
    "        super().__init__()\n",
    "        self.datamodule = datamodule\n",
    "\n",
    "    def on_validation_end(self, trainer, pl_module):\n",
    "        # can be done on complete dataset also\n",
    "        val_batch = next(iter(self.datamodule.val_dataloader()))\n",
    "        input = val_batch[\"features\"]\n",
    "\n",
    "        # get the predictions\n",
    "        outputs = pl_module(input)\n",
    "        preds = torch.argmax(outputs, 1)\n",
    "        labels = val_batch[\"targets\"]\n",
    "\n",
    "        # predicted and labelled data\n",
    "        df = pd.DataFrame(data=input, columns=['age', 'year', 'n_aux_nodes'])\n",
    "        df['Label'] = labels.numpy()\n",
    "        df['Predicted'] = preds.numpy()\n",
    "\n",
    "        # wrongly predicted data\n",
    "        wrong_df = df[df[\"Label\"] != df[\"Predicted\"]]\n",
    "\n",
    "        # Logging wrongly predicted dataframe as a table\n",
    "        trainer.logger.experiment.log(\n",
    "            {\n",
    "                \"examples\": wandb.Table(dataframe=wrong_df, allow_mixed_types=True),\n",
    "                \"global_step\": trainer.global_step,\n",
    "            }\n",
    "        )"
   ]
  },
  {
   "cell_type": "markdown",
   "metadata": {},
   "source": [
    "# Training"
   ]
  },
  {
   "cell_type": "code",
   "execution_count": 18,
   "metadata": {},
   "outputs": [],
   "source": [
    "# Callback\n",
    "checkpoint_callback = pl.callbacks.ModelCheckpoint(\n",
    "    dirpath = \"./models\",\n",
    "    monitor = \"val/loss\",\n",
    "    mode = \"min\"\n",
    ")"
   ]
  },
  {
   "cell_type": "code",
   "execution_count": 43,
   "metadata": {},
   "outputs": [],
   "source": [
    "# @hydra.main(config_path=\"../configs\", config_name=\"config\")\n",
    "def train(cfg):\n",
    "    print(OmegaConf.to_yaml(cfg))\n",
    "    data = HabermanDataModule('../data/haberman.csv', cfg.training.train_bs, cfg.training.val_bs)\n",
    "    model = HabermanANN()\n",
    "\n",
    "    trainer = pl.Trainer(\n",
    "        # gpus=(1 if torch.cuda.is_available() else 0),\n",
    "        max_epochs=10,\n",
    "        fast_dev_run=False,\n",
    "        accelerator='cpu',\n",
    "        log_every_n_steps = 5,\n",
    "        logger=wandb_logger,\n",
    "        callbacks = [checkpoint_callback, SamplesVisualisationLogger(data)]\n",
    "    )\n",
    "    trainer.fit(model, data)\n",
    "\n",
    "    # Perform evaluation\n",
    "    trainer.test(model, data)"
   ]
  },
  {
   "cell_type": "code",
   "execution_count": 44,
   "metadata": {},
   "outputs": [
    {
     "name": "stderr",
     "output_type": "stream",
     "text": [
      "GPU available: False, used: False\n",
      "TPU available: False, using: 0 TPU cores\n",
      "IPU available: False, using: 0 IPUs\n"
     ]
    },
    {
     "name": "stdout",
     "output_type": "stream",
     "text": [
      "processing: batch_size:16\n",
      "training:\n",
      "  train_bs: 16\n",
      "  val_bs: 8\n",
      "  lr: 0.01\n",
      "  max_epoch: 10\n",
      "  log_every_n_steps: 2\n",
      "\n"
     ]
    },
    {
     "name": "stderr",
     "output_type": "stream",
     "text": [
      "\u001b[34m\u001b[1mwandb\u001b[0m: wandb version 0.12.9 is available!  To upgrade, please run:\n",
      "\u001b[34m\u001b[1mwandb\u001b[0m:  $ pip install wandb --upgrade\n"
     ]
    },
    {
     "data": {
      "text/html": [
       "\n",
       "                    Syncing run <strong><a href=\"https://wandb.ai/anthonyckleung/MLOps%20Basics/runs/2kbrvqrg\" target=\"_blank\">classic-wind-2</a></strong> to <a href=\"https://wandb.ai/anthonyckleung/MLOps%20Basics\" target=\"_blank\">Weights & Biases</a> (<a href=\"https://docs.wandb.com/integrations/jupyter.html\" target=\"_blank\">docs</a>).<br/>\n",
       "\n",
       "                "
      ],
      "text/plain": [
       "<IPython.core.display.HTML object>"
      ]
     },
     "metadata": {},
     "output_type": "display_data"
    },
    {
     "name": "stderr",
     "output_type": "stream",
     "text": [
      "\n",
      "  | Name                   | Type       | Params\n",
      "------------------------------------------------------\n",
      "0 | fc1                    | Linear     | 40    \n",
      "1 | fc2                    | Linear     | 22    \n",
      "2 | ann                    | Sequential | 62    \n",
      "3 | train_accuracy_metric  | Accuracy   | 0     \n",
      "4 | val_accuracy_metric    | Accuracy   | 0     \n",
      "5 | f1_metric              | F1         | 0     \n",
      "6 | precision_macro_metric | Precision  | 0     \n",
      "7 | recall_macro_metric    | Recall     | 0     \n",
      "8 | precision_micro_metric | Precision  | 0     \n",
      "9 | recall_micro_metric    | Recall     | 0     \n",
      "------------------------------------------------------\n",
      "124       Trainable params\n",
      "0         Non-trainable params\n",
      "124       Total params\n",
      "0.000     Total estimated model params size (MB)\n"
     ]
    },
    {
     "name": "stdout",
     "output_type": "stream",
     "text": [
      "                                                                      "
     ]
    },
    {
     "name": "stderr",
     "output_type": "stream",
     "text": [
      "Global seed set to 42\n"
     ]
    },
    {
     "name": "stdout",
     "output_type": "stream",
     "text": [
      "Epoch 9: 100%|██████████| 20/20 [00:01<00:00, 19.77it/s, loss=0.474, v_num=vqrg, train/loss_step=0.257, train/acc_step=1.000, val/loss_step=0.176, val/loss_epoch=0.727, val/acc=0.612, val/precision_macro=0.471, val/recall_macro=0.565, val/precision_micro=0.612, val/recall_micro=0.612, val/f1=0.612, train/loss_epoch=0.513, train/acc_epoch=0.764]  \n",
      "Testing: 0it [00:00, ?it/s]--------------------------------------------------------------------------------\n",
      "DATALOADER:0 TEST RESULTS\n",
      "{'test_acc': 0.7903226017951965, 'test_loss': 0.5061657428741455}\n",
      "--------------------------------------------------------------------------------\n",
      "Testing: 100%|██████████| 8/8 [00:00<00:00, 347.83it/s]\n"
     ]
    }
   ],
   "source": [
    "train(cfg)"
   ]
  },
  {
   "cell_type": "code",
   "execution_count": 25,
   "metadata": {},
   "outputs": [
    {
     "name": "stderr",
     "output_type": "stream",
     "text": [
      "e:\\Projects\\mlops-experiment\\venv\\lib\\site-packages\\pytorch_lightning\\trainer\\data_loading.py:116: UserWarning: The dataloader, test_dataloader 0, does not have many workers which may be a bottleneck. Consider increasing the value of the `num_workers` argument` (try 8 which is the number of cpus on this machine) in the `DataLoader` init to improve performance.\n",
      "  rank_zero_warn(\n"
     ]
    },
    {
     "name": "stdout",
     "output_type": "stream",
     "text": [
      "Testing: 0it [00:00, ?it/s]--------------------------------------------------------------------------------\n",
      "DATALOADER:0 TEST RESULTS\n",
      "{'test_acc': 0.6935483813285828, 'test_loss': 0.5761809349060059}\n",
      "--------------------------------------------------------------------------------\n",
      "Testing: 100%|██████████| 8/8 [00:00<00:00, 250.02it/s]\n"
     ]
    },
    {
     "data": {
      "text/plain": [
       "[{'test_loss': 0.5761809349060059, 'test_acc': 0.6935483813285828}]"
      ]
     },
     "execution_count": 25,
     "metadata": {},
     "output_type": "execute_result"
    }
   ],
   "source": []
  },
  {
   "cell_type": "code",
   "execution_count": 248,
   "metadata": {},
   "outputs": [],
   "source": [
    "class HabermanPredictor:\n",
    "    def __init__(self, model_path):\n",
    "        self.model_path = model_path \n",
    "        self.model = HabermanANN.load_from_checkpoint(model_path)\n",
    "        self.model.eval()\n",
    "        self.model.freeze()\n",
    "        self.processor = HabermanDataModule(Config.file_path)\n",
    "        self.softmax = torch.nn.Softmax(dim=0)\n",
    "        self.labels = [\"survived\", \"did not survived\"]\n",
    "\n",
    "    def predict(self, input):\n",
    "        logits = self.model(\n",
    "            torch.tensor([input], dtype=torch.float)\n",
    "        )\n",
    "        scores = self.softmax(logits[0]).tolist()\n",
    "        predictions = []\n",
    "        for score, label in zip(scores, self.labels):\n",
    "            predictions.append({'label': label, 'score': score})\n",
    "        return predictions\n"
   ]
  },
  {
   "cell_type": "code",
   "execution_count": 249,
   "metadata": {},
   "outputs": [],
   "source": [
    "predictor = HabermanPredictor(\"./models/epoch=8-step=116.ckpt\")"
   ]
  },
  {
   "cell_type": "code",
   "execution_count": 250,
   "metadata": {},
   "outputs": [
    {
     "data": {
      "text/plain": [
       "[{'label': 'survived', 'score': 0.8074608445167542},\n",
       " {'label': 'did not survived', 'score': 0.19253917038440704}]"
      ]
     },
     "execution_count": 250,
     "metadata": {},
     "output_type": "execute_result"
    }
   ],
   "source": [
    "predictor.predict([34, 60, 0])"
   ]
  },
  {
   "cell_type": "code",
   "execution_count": null,
   "metadata": {},
   "outputs": [],
   "source": []
  }
 ],
 "metadata": {
  "interpreter": {
   "hash": "ba66de5986d9256513466eb4e98775d50d89d1f8f63cf5e0c1006ea51a06db43"
  },
  "kernelspec": {
   "display_name": "Python 3.8.8 64-bit ('venv': venv)",
   "language": "python",
   "name": "python3"
  },
  "language_info": {
   "codemirror_mode": {
    "name": "ipython",
    "version": 3
   },
   "file_extension": ".py",
   "mimetype": "text/x-python",
   "name": "python",
   "nbconvert_exporter": "python",
   "pygments_lexer": "ipython3",
   "version": "3.8.8"
  },
  "orig_nbformat": 4
 },
 "nbformat": 4,
 "nbformat_minor": 2
}
