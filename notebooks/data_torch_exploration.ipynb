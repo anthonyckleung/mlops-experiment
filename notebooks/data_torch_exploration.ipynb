{
 "cells": [
  {
   "cell_type": "markdown",
   "metadata": {},
   "source": [
    "# EDA and model experimentation with Haberman survival Dataset"
   ]
  },
  {
   "cell_type": "code",
   "execution_count": 2,
   "metadata": {},
   "outputs": [],
   "source": [
    "import os\n",
    "import pandas as pd\n",
    "import torch\n",
    "import torch.nn as nn \n",
    "import torchmetrics\n",
    "import pytorch_lightning as pl\n",
    "import wandb\n",
    "\n",
    "from dotenv import load_dotenv\n",
    "from pytorch_lightning.loggers import WandbLogger\n",
    "from torch.utils.data import DataLoader, Dataset, random_split\n",
    "from torch.nn import functional as F\n",
    "from sklearn.metrics import accuracy_score"
   ]
  },
  {
   "cell_type": "code",
   "execution_count": 2,
   "metadata": {},
   "outputs": [
    {
     "data": {
      "text/plain": [
       "True"
      ]
     },
     "execution_count": 2,
     "metadata": {},
     "output_type": "execute_result"
    }
   ],
   "source": [
    "load_dotenv()"
   ]
  },
  {
   "cell_type": "code",
   "execution_count": 3,
   "metadata": {},
   "outputs": [],
   "source": [
    "WANDB_API_KEY = os.getenv(\"WANDB_API_KEY\")"
   ]
  },
  {
   "cell_type": "code",
   "execution_count": 4,
   "metadata": {},
   "outputs": [
    {
     "name": "stderr",
     "output_type": "stream",
     "text": [
      "Failed to detect the name of this notebook, you can set it manually with the WANDB_NOTEBOOK_NAME environment variable to enable code saving.\n",
      "\u001b[34m\u001b[1mwandb\u001b[0m: Currently logged in as: \u001b[33manthonyckleung\u001b[0m (use `wandb login --relogin` to force relogin)\n",
      "\u001b[34m\u001b[1mwandb\u001b[0m: \u001b[33mWARNING\u001b[0m If you're specifying your api key in code, ensure this code is not shared publically.\n",
      "\u001b[34m\u001b[1mwandb\u001b[0m: \u001b[33mWARNING\u001b[0m Consider setting the WANDB_API_KEY environment variable, or running `wandb login` from the command line.\n",
      "\u001b[34m\u001b[1mwandb\u001b[0m: Appending key for api.wandb.ai to your netrc file: C:\\Users\\Anthony/.netrc\n"
     ]
    },
    {
     "data": {
      "text/plain": [
       "True"
      ]
     },
     "execution_count": 4,
     "metadata": {},
     "output_type": "execute_result"
    }
   ],
   "source": [
    "wandb.login(key=WANDB_API_KEY)"
   ]
  },
  {
   "cell_type": "code",
   "execution_count": 3,
   "metadata": {},
   "outputs": [],
   "source": [
    "wandb_logger = WandbLogger(project=\"MLOps Basics\")"
   ]
  },
  {
   "cell_type": "code",
   "execution_count": 4,
   "metadata": {},
   "outputs": [
    {
     "name": "stderr",
     "output_type": "stream",
     "text": [
      "Global seed set to 42\n"
     ]
    },
    {
     "data": {
      "text/plain": [
       "42"
      ]
     },
     "execution_count": 4,
     "metadata": {},
     "output_type": "execute_result"
    }
   ],
   "source": [
    "# Seed everything\n",
    "pl.seed_everything(42)"
   ]
  },
  {
   "cell_type": "code",
   "execution_count": 5,
   "metadata": {},
   "outputs": [
    {
     "data": {
      "text/plain": [
       "0"
      ]
     },
     "execution_count": 5,
     "metadata": {},
     "output_type": "execute_result"
    }
   ],
   "source": [
    "torch.cuda.device_count()"
   ]
  },
  {
   "cell_type": "code",
   "execution_count": 6,
   "metadata": {},
   "outputs": [],
   "source": [
    "df = pd.read_csv('../data/haberman.csv')"
   ]
  },
  {
   "cell_type": "code",
   "execution_count": 7,
   "metadata": {},
   "outputs": [
    {
     "data": {
      "text/html": [
       "<div>\n",
       "<style scoped>\n",
       "    .dataframe tbody tr th:only-of-type {\n",
       "        vertical-align: middle;\n",
       "    }\n",
       "\n",
       "    .dataframe tbody tr th {\n",
       "        vertical-align: top;\n",
       "    }\n",
       "\n",
       "    .dataframe thead th {\n",
       "        text-align: right;\n",
       "    }\n",
       "</style>\n",
       "<table border=\"1\" class=\"dataframe\">\n",
       "  <thead>\n",
       "    <tr style=\"text-align: right;\">\n",
       "      <th></th>\n",
       "      <th>age</th>\n",
       "      <th>year</th>\n",
       "      <th>n_auxillary_nodes</th>\n",
       "      <th>status</th>\n",
       "    </tr>\n",
       "  </thead>\n",
       "  <tbody>\n",
       "    <tr>\n",
       "      <th>0</th>\n",
       "      <td>30</td>\n",
       "      <td>64</td>\n",
       "      <td>1</td>\n",
       "      <td>1</td>\n",
       "    </tr>\n",
       "    <tr>\n",
       "      <th>1</th>\n",
       "      <td>30</td>\n",
       "      <td>62</td>\n",
       "      <td>3</td>\n",
       "      <td>1</td>\n",
       "    </tr>\n",
       "    <tr>\n",
       "      <th>2</th>\n",
       "      <td>30</td>\n",
       "      <td>65</td>\n",
       "      <td>0</td>\n",
       "      <td>1</td>\n",
       "    </tr>\n",
       "    <tr>\n",
       "      <th>3</th>\n",
       "      <td>31</td>\n",
       "      <td>59</td>\n",
       "      <td>2</td>\n",
       "      <td>1</td>\n",
       "    </tr>\n",
       "    <tr>\n",
       "      <th>4</th>\n",
       "      <td>31</td>\n",
       "      <td>65</td>\n",
       "      <td>4</td>\n",
       "      <td>1</td>\n",
       "    </tr>\n",
       "  </tbody>\n",
       "</table>\n",
       "</div>"
      ],
      "text/plain": [
       "   age  year  n_auxillary_nodes  status\n",
       "0   30    64                  1       1\n",
       "1   30    62                  3       1\n",
       "2   30    65                  0       1\n",
       "3   31    59                  2       1\n",
       "4   31    65                  4       1"
      ]
     },
     "execution_count": 7,
     "metadata": {},
     "output_type": "execute_result"
    }
   ],
   "source": [
    "df.head()"
   ]
  },
  {
   "cell_type": "code",
   "execution_count": 8,
   "metadata": {},
   "outputs": [
    {
     "data": {
      "text/plain": [
       "age                  int64\n",
       "year                 int64\n",
       "n_auxillary_nodes    int64\n",
       "status               int64\n",
       "dtype: object"
      ]
     },
     "execution_count": 8,
     "metadata": {},
     "output_type": "execute_result"
    }
   ],
   "source": [
    "df.dtypes"
   ]
  },
  {
   "cell_type": "code",
   "execution_count": 9,
   "metadata": {},
   "outputs": [
    {
     "data": {
      "text/plain": [
       "2"
      ]
     },
     "execution_count": 9,
     "metadata": {},
     "output_type": "execute_result"
    }
   ],
   "source": [
    "df['status'].nunique()"
   ]
  },
  {
   "cell_type": "code",
   "execution_count": 10,
   "metadata": {},
   "outputs": [],
   "source": [
    "class Config:\n",
    "    file_path = '../data/haberman.csv'\n",
    "    lr = 1e-5\n",
    "    max_len = 64\n",
    "    train_bs = 16\n",
    "    val_bs = 8\n",
    "    trainval_pcent = 0.80\n",
    "    num_workers = 8"
   ]
  },
  {
   "cell_type": "code",
   "execution_count": 11,
   "metadata": {},
   "outputs": [],
   "source": [
    "class HabermanData(Dataset):\n",
    "    def __init__(self, data_df):\n",
    "        data_df = data_df.reset_index(drop=True)\n",
    "        self.features = data_df[['age','year', 'n_auxillary_nodes']].values\n",
    "        self.target = data_df['status'].values\n",
    "        \n",
    "    def __len__(self):\n",
    "        return len(self.target)\n",
    "\n",
    "    def __getitem__(self, idx):\n",
    "        features = torch.tensor(self.features[idx], dtype=torch.float)\n",
    "        targets = torch.tensor(self.target[idx], dtype = torch.long)\n",
    "\n",
    "        return {\"features\": features,\n",
    "                \"targets\": targets}"
   ]
  },
  {
   "cell_type": "code",
   "execution_count": 12,
   "metadata": {},
   "outputs": [],
   "source": [
    "class HabermanDataModule(pl.LightningDataModule):\n",
    "    def __init__(self, data_path):\n",
    "        super().__init__()\n",
    "\n",
    "        self.data = pd.read_csv(data_path)\n",
    "        \n",
    "    def setup(self, stage=None):\n",
    "        data = self.data.sample(frac=1).reset_index(drop=True)\n",
    "        data['status'] = data['status'] - 1\n",
    "\n",
    "        dataset = HabermanData(data)\n",
    "\n",
    "        # Split data into train, validation, and testing\n",
    "        trainval_size = int(Config.trainval_pcent * len(data))\n",
    "        train_size = int(trainval_size*0.8)\n",
    "\n",
    "        val_size = trainval_size - train_size\n",
    "        test_size = len(data) - trainval_size\n",
    "\n",
    "        trainval_set, test_set = random_split(dataset, [trainval_size, test_size])\n",
    "        train_set, val_set = random_split(trainval_set, [train_size, val_size])\n",
    "        \n",
    "        if (stage == 'fit') or (stage is None):\n",
    "            self.training_set = train_set\n",
    "            self.validation_set = val_set\n",
    "        \n",
    "        if stage == 'test':\n",
    "            self.testing_set = test_set\n",
    " \n",
    "    def train_dataloader(self):\n",
    "        train_loader = DataLoader(\n",
    "            self.training_set,\n",
    "            batch_size = Config.train_bs,\n",
    "            shuffle=False,\n",
    "            num_workers = 0\n",
    "        )\n",
    "        return train_loader\n",
    "\n",
    "    def val_dataloader(self):\n",
    "        val_loader = DataLoader(\n",
    "            self.training_set,\n",
    "            batch_size = Config.val_bs,\n",
    "            shuffle=False,\n",
    "            num_workers = 0\n",
    "        )\n",
    "        return val_loader\n",
    "\n",
    "    def test_dataloader(self):\n",
    "        test_loader = DataLoader(\n",
    "            self.testing_set,\n",
    "            batch_size = Config.val_bs,\n",
    "            shuffle=False,\n",
    "            num_workers = 0\n",
    "        )\n",
    "        return test_loader\n",
    "        "
   ]
  },
  {
   "cell_type": "code",
   "execution_count": 26,
   "metadata": {},
   "outputs": [],
   "source": [
    "class HabermanANN(pl.LightningModule):\n",
    "    def __init__(self, lr=1e-2):\n",
    "        super(HabermanANN, self).__init__()\n",
    "        self.num_classes = 2\n",
    "        self.train_accuracy_metric = torchmetrics.Accuracy()\n",
    "        self.val_accuracy_metric = torchmetrics.Accuracy()\n",
    "        self.f1_metric = torchmetrics.F1(num_classes=self.num_classes)\n",
    "        self.precision_macro_metric = torchmetrics.Precision(\n",
    "            average=\"macro\", num_classes=self.num_classes\n",
    "        )\n",
    "        self.recall_macro_metric = torchmetrics.Recall(\n",
    "            average=\"macro\", num_classes=self.num_classes\n",
    "        )\n",
    "        self.precision_micro_metric = torchmetrics.Precision(average=\"micro\")\n",
    "        self.recall_micro_metric = torchmetrics.Recall(average=\"micro\")\n",
    "        self.save_hyperparameters()\n",
    "        self.fc1 = nn.Linear(3, 10)\n",
    "        self.fc2 = nn.Linear(10, 2)\n",
    "\n",
    "        self.ann = nn.Sequential(\n",
    "                nn.Linear(3, 10),\n",
    "                nn.ReLU(),\n",
    "                nn.Linear(10, 2),\n",
    "        )\n",
    "        # self.dropout = nn.Dropout(0.4)\n",
    "        \n",
    "        # self.W = nn.Linear(self.distilbert.config.hidden_size, 2)\n",
    "        \n",
    "\n",
    "    def forward(self, x):\n",
    "        x = self.ann(x)\n",
    "        return x\n",
    "\n",
    "\n",
    "    def training_step(self, batch, batch_idx):\n",
    "        logits = self.forward(batch[\"features\"])\n",
    "        loss = self.loss_func(logits, batch['targets'])\n",
    "        train_acc = self.train_accuracy_metric(logits, batch[\"targets\"])\n",
    "        self.log(\"train/loss\", loss, prog_bar=True, on_epoch=True)\n",
    "        self.log(\"train/acc\", train_acc, prog_bar=True, on_epoch=True)\n",
    "        return loss\n",
    "\n",
    "    def validation_step(self, batch, batch_idx):\n",
    "        logits = self.forward(batch[\"features\"])\n",
    "        loss = self.loss_func(logits, batch['targets'])\n",
    "        _, preds = torch.max(logits, dim=1)\n",
    "        val_acc = accuracy_score(preds.cpu(), batch[\"targets\"].cpu())\n",
    "        val_acc = torch.tensor(val_acc)\n",
    "\n",
    "        # Metrics\n",
    "        valid_acc = self.val_accuracy_metric(preds, batch[\"targets\"])\n",
    "        precision_macro = self.precision_macro_metric(preds, batch[\"targets\"])\n",
    "        recall_macro = self.recall_macro_metric(preds, batch[\"targets\"])\n",
    "        precision_micro = self.precision_micro_metric(preds, batch[\"targets\"])\n",
    "        recall_micro = self.recall_micro_metric(preds, batch[\"targets\"])\n",
    "        f1 = self.f1_metric(preds, batch[\"targets\"])\n",
    "\n",
    "        self.log(\"val/loss\", loss, prog_bar=True, on_step=True)\n",
    "        self.log(\"val/acc\", val_acc, prog_bar=True)\n",
    "        self.log(\"val/precision_macro\", precision_macro, prog_bar=True)\n",
    "        self.log(\"val/recall_macro\",recall_macro, prog_bar=True)\n",
    "        self.log(\"val/precision_micro\", precision_micro, prog_bar=True)\n",
    "        self.log(\"val/recall_micro\", recall_micro, prog_bar=True)\n",
    "        self.log(\"val/f1\", f1, prog_bar=True)\n",
    "        return {\"targets\": batch[\"targets\"], \"logits\": logits}\n",
    "\n",
    "    def test_step(self, batch, batch_idx):\n",
    "        logits = self.forward(batch[\"features\"])\n",
    "        loss = self.loss_func(logits, batch['targets'])\n",
    "        _, preds = torch.max(logits, dim=1)\n",
    "        test_acc = accuracy_score(preds.cpu(), batch[\"targets\"].cpu())\n",
    "        self.log(\"test_loss\", loss)\n",
    "        self.log(\"test_acc\", test_acc) \n",
    "        \n",
    "\n",
    "    def loss_func(self, pred, target):\n",
    "        return F.cross_entropy(pred, target)\n",
    "\n",
    "    def validation_epoch_end(self, outputs):\n",
    "        labels = torch.cat([x[\"targets\"] for x in outputs])\n",
    "        logits = torch.cat([x[\"logits\"] for x in outputs])\n",
    "        preds = torch.argmax(logits, 1)\n",
    "\n",
    "        ## There are multiple ways to track the metrics\n",
    "        # 1. Confusion matrix plotting using inbuilt W&B method\n",
    "        self.logger.experiment.log(\n",
    "            {\n",
    "                \"conf\": wandb.plot.confusion_matrix(\n",
    "                    probs=logits.numpy(), y_true=labels.numpy()\n",
    "                )\n",
    "            }\n",
    "        )\n",
    "\n",
    "        # 2. Confusion Matrix plotting using scikit-learn method\n",
    "        # wandb.log({\"cm\": wandb.sklearn.plot_confusion_matrix(labels.numpy(), preds)})\n",
    "\n",
    "        # 3. Confusion Matric plotting using Seaborn\n",
    "        # data = confusion_matrix(labels.numpy(), preds.numpy())\n",
    "        # df_cm = pd.DataFrame(data, columns=np.unique(labels), index=np.unique(labels))\n",
    "        # df_cm.index.name = \"Actual\"\n",
    "        # df_cm.columns.name = \"Predicted\"\n",
    "        # plt.figure(figsize=(7, 4))\n",
    "        # plot = sns.heatmap(\n",
    "        #     df_cm, cmap=\"Blues\", annot=True, annot_kws={\"size\": 16}\n",
    "        # )  # font size\n",
    "        # self.logger.experiment.log({\"Confusion Matrix\": wandb.Image(plot)})\n",
    "\n",
    "        # self.logger.experiment.log(\n",
    "        #     {\"roc\": wandb.plot.roc_curve(labels.numpy(), logits.numpy())}\n",
    "        # )\n",
    "\n",
    "    def configure_optimizers(self):\n",
    "        return torch.optim.Adam(self.parameters(), lr=self.hparams[\"lr\"])"
   ]
  },
  {
   "cell_type": "code",
   "execution_count": 39,
   "metadata": {},
   "outputs": [],
   "source": [
    "class SamplesVisualisationLogger(pl.Callback):\n",
    "    def __init__(self, datamodule):\n",
    "        super().__init__()\n",
    "        self.datamodule = datamodule\n",
    "\n",
    "    def on_validation_end(self, trainer, pl_module):\n",
    "        # can be done on complete dataset also\n",
    "        val_batch = next(iter(self.datamodule.val_dataloader()))\n",
    "        input = val_batch[\"features\"]\n",
    "\n",
    "        # get the predictions\n",
    "        outputs = pl_module(input)\n",
    "        preds = torch.argmax(outputs, 1)\n",
    "        labels = val_batch[\"targets\"]\n",
    "\n",
    "        # predicted and labelled data\n",
    "        df = pd.DataFrame(data=input, columns=['age', 'year', 'n_aux_nodes'])\n",
    "        df['Label'] = labels.numpy()\n",
    "        df['Predicted'] = preds.numpy()\n",
    "\n",
    "        # wrongly predicted data\n",
    "        wrong_df = df[df[\"Label\"] != df[\"Predicted\"]]\n",
    "\n",
    "        # Logging wrongly predicted dataframe as a table\n",
    "        trainer.logger.experiment.log(\n",
    "            {\n",
    "                \"examples\": wandb.Table(dataframe=wrong_df, allow_mixed_types=True),\n",
    "                \"global_step\": trainer.global_step,\n",
    "            }\n",
    "        )"
   ]
  },
  {
   "cell_type": "markdown",
   "metadata": {},
   "source": [
    "# Training"
   ]
  },
  {
   "cell_type": "code",
   "execution_count": 28,
   "metadata": {},
   "outputs": [],
   "source": [
    "# Callback\n",
    "checkpoint_callback = pl.callbacks.ModelCheckpoint(\n",
    "    dirpath = \"./models\",\n",
    "    monitor = \"val/loss\",\n",
    "    mode = \"min\"\n",
    ")"
   ]
  },
  {
   "cell_type": "code",
   "execution_count": 40,
   "metadata": {},
   "outputs": [
    {
     "name": "stderr",
     "output_type": "stream",
     "text": [
      "GPU available: False, used: False\n",
      "TPU available: False, using: 0 TPU cores\n",
      "IPU available: False, using: 0 IPUs\n",
      "\n",
      "  | Name                   | Type       | Params\n",
      "------------------------------------------------------\n",
      "0 | train_accuracy_metric  | Accuracy   | 0     \n",
      "1 | val_accuracy_metric    | Accuracy   | 0     \n",
      "2 | f1_metric              | F1         | 0     \n",
      "3 | precision_macro_metric | Precision  | 0     \n",
      "4 | recall_macro_metric    | Recall     | 0     \n",
      "5 | precision_micro_metric | Precision  | 0     \n",
      "6 | recall_micro_metric    | Recall     | 0     \n",
      "7 | fc1                    | Linear     | 40    \n",
      "8 | fc2                    | Linear     | 22    \n",
      "9 | ann                    | Sequential | 62    \n",
      "------------------------------------------------------\n",
      "124       Trainable params\n",
      "0         Non-trainable params\n",
      "124       Total params\n",
      "0.000     Total estimated model params size (MB)\n",
      "e:\\Projects\\mlops-experiment\\venv\\lib\\site-packages\\pytorch_lightning\\callbacks\\model_checkpoint.py:623: UserWarning: Checkpoint directory E:\\Projects\\mlops-experiment\\notebooks\\models exists and is not empty.\n",
      "  rank_zero_warn(f\"Checkpoint directory {dirpath} exists and is not empty.\")\n"
     ]
    },
    {
     "name": "stdout",
     "output_type": "stream",
     "text": [
      "Validation sanity check:   0%|          | 0/2 [00:00<?, ?it/s]"
     ]
    },
    {
     "name": "stderr",
     "output_type": "stream",
     "text": [
      "e:\\Projects\\mlops-experiment\\venv\\lib\\site-packages\\pytorch_lightning\\trainer\\data_loading.py:116: UserWarning: The dataloader, val_dataloader 0, does not have many workers which may be a bottleneck. Consider increasing the value of the `num_workers` argument` (try 8 which is the number of cpus on this machine) in the `DataLoader` init to improve performance.\n",
      "  rank_zero_warn(\n"
     ]
    },
    {
     "name": "stdout",
     "output_type": "stream",
     "text": [
      "           age         year n_aux_nodes  Label  Predicted\n",
      "0  tensor(39.)  tensor(66.)  tensor(0.)      1          1\n",
      "1  tensor(35.)  tensor(63.)  tensor(0.)      0          1\n",
      "2  tensor(56.)  tensor(60.)  tensor(0.)      0          1\n",
      "3  tensor(75.)  tensor(62.)  tensor(1.)      0          1\n",
      "4  tensor(52.)  tensor(60.)  tensor(4.)      0          1\n",
      "5  tensor(38.)  tensor(60.)  tensor(0.)      0          1\n",
      "6  tensor(53.)  tensor(60.)  tensor(9.)      1          1\n",
      "7  tensor(76.)  tensor(67.)  tensor(0.)      0          1\n",
      "                                                              "
     ]
    },
    {
     "name": "stderr",
     "output_type": "stream",
     "text": [
      "Global seed set to 42\n",
      "e:\\Projects\\mlops-experiment\\venv\\lib\\site-packages\\pytorch_lightning\\trainer\\data_loading.py:116: UserWarning: The dataloader, train_dataloader, does not have many workers which may be a bottleneck. Consider increasing the value of the `num_workers` argument` (try 8 which is the number of cpus on this machine) in the `DataLoader` init to improve performance.\n",
      "  rank_zero_warn(\n"
     ]
    },
    {
     "name": "stdout",
     "output_type": "stream",
     "text": [
      "Epoch 0:  87%|████████▋ | 33/38 [00:00<00:00, 69.04it/s, loss=1.47, v_num=1f8u, train/loss_step=0.862, train/acc_step=0.667]            age         year n_aux_nodes  Label  Predicted\n",
      "0  tensor(39.)  tensor(66.)  tensor(0.)      1          1\n",
      "1  tensor(35.)  tensor(63.)  tensor(0.)      0          1\n",
      "2  tensor(56.)  tensor(60.)  tensor(0.)      0          0\n",
      "3  tensor(75.)  tensor(62.)  tensor(1.)      0          0\n",
      "4  tensor(52.)  tensor(60.)  tensor(4.)      0          0\n",
      "5  tensor(38.)  tensor(60.)  tensor(0.)      0          0\n",
      "6  tensor(53.)  tensor(60.)  tensor(9.)      1          0\n",
      "7  tensor(76.)  tensor(67.)  tensor(0.)      0          0\n",
      "Epoch 1:  87%|████████▋ | 33/38 [00:00<00:00, 73.01it/s, loss=0.988, v_num=1f8u, train/loss_step=0.608, train/acc_step=0.667, val/loss_step=0.747, val/loss_epoch=0.933, val/acc=0.692, val/precision_macro=0.457, val/recall_macro=0.521, val/precision_micro=0.692, val/recall_micro=0.692, val/f1=0.692, train/loss_epoch=1.510, train/acc_epoch=0.595]           age         year n_aux_nodes  Label  Predicted\n",
      "0  tensor(39.)  tensor(66.)  tensor(0.)      1          1\n",
      "1  tensor(35.)  tensor(63.)  tensor(0.)      0          1\n",
      "2  tensor(56.)  tensor(60.)  tensor(0.)      0          0\n",
      "3  tensor(75.)  tensor(62.)  tensor(1.)      0          0\n",
      "4  tensor(52.)  tensor(60.)  tensor(4.)      0          0\n",
      "5  tensor(38.)  tensor(60.)  tensor(0.)      0          1\n",
      "6  tensor(53.)  tensor(60.)  tensor(9.)      1          0\n",
      "7  tensor(76.)  tensor(67.)  tensor(0.)      0          0\n",
      "Epoch 2:  87%|████████▋ | 33/38 [00:00<00:00, 69.18it/s, loss=0.794, v_num=1f8u, train/loss_step=0.653, train/acc_step=0.667, val/loss_step=0.583, val/loss_epoch=0.797, val/acc=0.656, val/precision_macro=0.450, val/recall_macro=0.503, val/precision_micro=0.656, val/recall_micro=0.656, val/f1=0.656, train/loss_epoch=0.876, train/acc_epoch=0.513]            age         year n_aux_nodes  Label  Predicted\n",
      "0  tensor(39.)  tensor(66.)  tensor(0.)      1          1\n",
      "1  tensor(35.)  tensor(63.)  tensor(0.)      0          1\n",
      "2  tensor(56.)  tensor(60.)  tensor(0.)      0          0\n",
      "3  tensor(75.)  tensor(62.)  tensor(1.)      0          0\n",
      "4  tensor(52.)  tensor(60.)  tensor(4.)      0          0\n",
      "5  tensor(38.)  tensor(60.)  tensor(0.)      0          1\n",
      "6  tensor(53.)  tensor(60.)  tensor(9.)      1          0\n",
      "7  tensor(76.)  tensor(67.)  tensor(0.)      0          0\n",
      "Epoch 3:  87%|████████▋ | 33/38 [00:00<00:00, 68.61it/s, loss=0.693, v_num=1f8u, train/loss_step=0.447, train/acc_step=1.000, val/loss_step=0.649, val/loss_epoch=0.741, val/acc=0.549, val/precision_macro=0.455, val/recall_macro=0.446, val/precision_micro=0.549, val/recall_micro=0.549, val/f1=0.549, train/loss_epoch=0.762, train/acc_epoch=0.656]           age         year n_aux_nodes  Label  Predicted\n",
      "0  tensor(39.)  tensor(66.)  tensor(0.)      1          1\n",
      "1  tensor(35.)  tensor(63.)  tensor(0.)      0          1\n",
      "2  tensor(56.)  tensor(60.)  tensor(0.)      0          0\n",
      "3  tensor(75.)  tensor(62.)  tensor(1.)      0          0\n",
      "4  tensor(52.)  tensor(60.)  tensor(4.)      0          0\n",
      "5  tensor(38.)  tensor(60.)  tensor(0.)      0          1\n",
      "6  tensor(53.)  tensor(60.)  tensor(9.)      1          0\n",
      "7  tensor(76.)  tensor(67.)  tensor(0.)      0          0\n",
      "Epoch 4:  87%|████████▋ | 33/38 [00:00<00:00, 76.39it/s, loss=0.647, v_num=1f8u, train/loss_step=0.407, train/acc_step=1.000, val/loss_step=0.460, val/loss_epoch=0.670, val/acc=0.626, val/precision_macro=0.454, val/recall_macro=0.488, val/precision_micro=0.626, val/recall_micro=0.626, val/f1=0.626, train/loss_epoch=0.713, train/acc_epoch=0.631]           age         year n_aux_nodes  Label  Predicted\n",
      "0  tensor(39.)  tensor(66.)  tensor(0.)      1          1\n",
      "1  tensor(35.)  tensor(63.)  tensor(0.)      0          1\n",
      "2  tensor(56.)  tensor(60.)  tensor(0.)      0          0\n",
      "3  tensor(75.)  tensor(62.)  tensor(1.)      0          0\n",
      "4  tensor(52.)  tensor(60.)  tensor(4.)      0          0\n",
      "5  tensor(38.)  tensor(60.)  tensor(0.)      0          0\n",
      "6  tensor(53.)  tensor(60.)  tensor(9.)      1          0\n",
      "7  tensor(76.)  tensor(67.)  tensor(0.)      0          0\n",
      "Epoch 5:  87%|████████▋ | 33/38 [00:00<00:00, 55.65it/s, loss=0.617, v_num=1f8u, train/loss_step=0.396, train/acc_step=1.000, val/loss_step=0.410, val/loss_epoch=0.643, val/acc=0.667, val/precision_macro=0.473, val/recall_macro=0.512, val/precision_micro=0.667, val/recall_micro=0.667, val/f1=0.667, train/loss_epoch=0.665, train/acc_epoch=0.651]           age         year n_aux_nodes  Label  Predicted\n",
      "0  tensor(39.)  tensor(66.)  tensor(0.)      1          0\n",
      "1  tensor(35.)  tensor(63.)  tensor(0.)      0          1\n",
      "2  tensor(56.)  tensor(60.)  tensor(0.)      0          0\n",
      "3  tensor(75.)  tensor(62.)  tensor(1.)      0          0\n",
      "4  tensor(52.)  tensor(60.)  tensor(4.)      0          0\n",
      "5  tensor(38.)  tensor(60.)  tensor(0.)      0          0\n",
      "6  tensor(53.)  tensor(60.)  tensor(9.)      1          0\n",
      "7  tensor(76.)  tensor(67.)  tensor(0.)      0          0\n",
      "Epoch 6:  87%|████████▋ | 33/38 [00:00<00:00, 80.88it/s, loss=0.598, v_num=1f8u, train/loss_step=0.377, train/acc_step=1.000, val/loss_step=0.400, val/loss_epoch=0.625, val/acc=0.656, val/precision_macro=0.452, val/recall_macro=0.494, val/precision_micro=0.656, val/recall_micro=0.656, val/f1=0.656, train/loss_epoch=0.638, train/acc_epoch=0.672]            age         year n_aux_nodes  Label  Predicted\n",
      "0  tensor(39.)  tensor(66.)  tensor(0.)      1          0\n",
      "1  tensor(35.)  tensor(63.)  tensor(0.)      0          0\n",
      "2  tensor(56.)  tensor(60.)  tensor(0.)      0          0\n",
      "3  tensor(75.)  tensor(62.)  tensor(1.)      0          0\n",
      "4  tensor(52.)  tensor(60.)  tensor(4.)      0          0\n",
      "5  tensor(38.)  tensor(60.)  tensor(0.)      0          0\n",
      "6  tensor(53.)  tensor(60.)  tensor(9.)      1          0\n",
      "7  tensor(76.)  tensor(67.)  tensor(0.)      0          0\n",
      "Epoch 7:  87%|████████▋ | 33/38 [00:00<00:00, 61.80it/s, loss=0.585, v_num=1f8u, train/loss_step=0.362, train/acc_step=1.000, val/loss_step=0.385, val/loss_epoch=0.612, val/acc=0.677, val/precision_macro=0.444, val/recall_macro=0.507, val/precision_micro=0.677, val/recall_micro=0.677, val/f1=0.677, train/loss_epoch=0.625, train/acc_epoch=0.667]           age         year n_aux_nodes  Label  Predicted\n",
      "0  tensor(39.)  tensor(66.)  tensor(0.)      1          0\n",
      "1  tensor(35.)  tensor(63.)  tensor(0.)      0          0\n",
      "2  tensor(56.)  tensor(60.)  tensor(0.)      0          0\n",
      "3  tensor(75.)  tensor(62.)  tensor(1.)      0          0\n",
      "4  tensor(52.)  tensor(60.)  tensor(4.)      0          0\n",
      "5  tensor(38.)  tensor(60.)  tensor(0.)      0          0\n",
      "6  tensor(53.)  tensor(60.)  tensor(9.)      1          0\n",
      "7  tensor(76.)  tensor(67.)  tensor(0.)      0          0\n",
      "Epoch 8:  87%|████████▋ | 33/38 [00:00<00:00, 67.07it/s, loss=0.576, v_num=1f8u, train/loss_step=0.355, train/acc_step=1.000, val/loss_step=0.371, val/loss_epoch=0.602, val/acc=0.687, val/precision_macro=0.450, val/recall_macro=0.516, val/precision_micro=0.687, val/recall_micro=0.687, val/f1=0.687, train/loss_epoch=0.615, train/acc_epoch=0.677]           age         year n_aux_nodes  Label  Predicted\n",
      "0  tensor(39.)  tensor(66.)  tensor(0.)      1          0\n",
      "1  tensor(35.)  tensor(63.)  tensor(0.)      0          0\n",
      "2  tensor(56.)  tensor(60.)  tensor(0.)      0          0\n",
      "3  tensor(75.)  tensor(62.)  tensor(1.)      0          0\n",
      "4  tensor(52.)  tensor(60.)  tensor(4.)      0          0\n",
      "5  tensor(38.)  tensor(60.)  tensor(0.)      0          0\n",
      "6  tensor(53.)  tensor(60.)  tensor(9.)      1          0\n",
      "7  tensor(76.)  tensor(67.)  tensor(0.)      0          0\n",
      "Epoch 9:  87%|████████▋ | 33/38 [00:00<00:00, 62.62it/s, loss=0.569, v_num=1f8u, train/loss_step=0.350, train/acc_step=1.000, val/loss_step=0.362, val/loss_epoch=0.594, val/acc=0.687, val/precision_macro=0.450, val/recall_macro=0.516, val/precision_micro=0.687, val/recall_micro=0.687, val/f1=0.687, train/loss_epoch=0.606, train/acc_epoch=0.687]           age         year n_aux_nodes  Label  Predicted\n",
      "0  tensor(39.)  tensor(66.)  tensor(0.)      1          0\n",
      "1  tensor(35.)  tensor(63.)  tensor(0.)      0          0\n",
      "2  tensor(56.)  tensor(60.)  tensor(0.)      0          0\n",
      "3  tensor(75.)  tensor(62.)  tensor(1.)      0          0\n",
      "4  tensor(52.)  tensor(60.)  tensor(4.)      0          0\n",
      "5  tensor(38.)  tensor(60.)  tensor(0.)      0          0\n",
      "6  tensor(53.)  tensor(60.)  tensor(9.)      1          0\n",
      "7  tensor(76.)  tensor(67.)  tensor(0.)      0          0\n",
      "Epoch 9: 100%|██████████| 38/38 [00:01<00:00, 25.20it/s, loss=0.569, v_num=1f8u, train/loss_step=0.350, train/acc_step=1.000, val/loss_step=0.357, val/loss_epoch=0.588, val/acc=0.697, val/precision_macro=0.455, val/recall_macro=0.524, val/precision_micro=0.697, val/recall_micro=0.697, val/f1=0.697, train/loss_epoch=0.606, train/acc_epoch=0.687]\n"
     ]
    }
   ],
   "source": [
    "data = HabermanDataModule(Config.file_path)\n",
    "model = HabermanANN()\n",
    "\n",
    "trainer = pl.Trainer(\n",
    "    # gpus=(1 if torch.cuda.is_available() else 0),\n",
    "    max_epochs=10,\n",
    "    fast_dev_run=False,\n",
    "    accelerator='cpu',\n",
    "    log_every_n_steps = 5,\n",
    "    logger=wandb_logger,\n",
    "    callbacks = [checkpoint_callback, SamplesVisualisationLogger(data)]\n",
    ")\n",
    "trainer.fit(model, data)"
   ]
  },
  {
   "cell_type": "code",
   "execution_count": 25,
   "metadata": {},
   "outputs": [
    {
     "name": "stderr",
     "output_type": "stream",
     "text": [
      "e:\\Projects\\mlops-experiment\\venv\\lib\\site-packages\\pytorch_lightning\\trainer\\data_loading.py:116: UserWarning: The dataloader, test_dataloader 0, does not have many workers which may be a bottleneck. Consider increasing the value of the `num_workers` argument` (try 8 which is the number of cpus on this machine) in the `DataLoader` init to improve performance.\n",
      "  rank_zero_warn(\n"
     ]
    },
    {
     "name": "stdout",
     "output_type": "stream",
     "text": [
      "Testing: 0it [00:00, ?it/s]--------------------------------------------------------------------------------\n",
      "DATALOADER:0 TEST RESULTS\n",
      "{'test_acc': 0.6935483813285828, 'test_loss': 0.5761809349060059}\n",
      "--------------------------------------------------------------------------------\n",
      "Testing: 100%|██████████| 8/8 [00:00<00:00, 250.02it/s]\n"
     ]
    },
    {
     "data": {
      "text/plain": [
       "[{'test_loss': 0.5761809349060059, 'test_acc': 0.6935483813285828}]"
      ]
     },
     "execution_count": 25,
     "metadata": {},
     "output_type": "execute_result"
    }
   ],
   "source": [
    "# Perform evaluation\n",
    "trainer.test(model, data)"
   ]
  },
  {
   "cell_type": "code",
   "execution_count": 248,
   "metadata": {},
   "outputs": [],
   "source": [
    "class HabermanPredictor:\n",
    "    def __init__(self, model_path):\n",
    "        self.model_path = model_path \n",
    "        self.model = HabermanANN.load_from_checkpoint(model_path)\n",
    "        self.model.eval()\n",
    "        self.model.freeze()\n",
    "        self.processor = HabermanDataModule(Config.file_path)\n",
    "        self.softmax = torch.nn.Softmax(dim=0)\n",
    "        self.labels = [\"survived\", \"did not survived\"]\n",
    "\n",
    "    def predict(self, input):\n",
    "        logits = self.model(\n",
    "            torch.tensor([input], dtype=torch.float)\n",
    "        )\n",
    "        scores = self.softmax(logits[0]).tolist()\n",
    "        predictions = []\n",
    "        for score, label in zip(scores, self.labels):\n",
    "            predictions.append({'label': label, 'score': score})\n",
    "        return predictions\n"
   ]
  },
  {
   "cell_type": "code",
   "execution_count": 249,
   "metadata": {},
   "outputs": [],
   "source": [
    "predictor = HabermanPredictor(\"./models/epoch=8-step=116.ckpt\")"
   ]
  },
  {
   "cell_type": "code",
   "execution_count": 250,
   "metadata": {},
   "outputs": [
    {
     "data": {
      "text/plain": [
       "[{'label': 'survived', 'score': 0.8074608445167542},\n",
       " {'label': 'did not survived', 'score': 0.19253917038440704}]"
      ]
     },
     "execution_count": 250,
     "metadata": {},
     "output_type": "execute_result"
    }
   ],
   "source": [
    "predictor.predict([34, 60, 0])"
   ]
  },
  {
   "cell_type": "code",
   "execution_count": null,
   "metadata": {},
   "outputs": [],
   "source": []
  }
 ],
 "metadata": {
  "interpreter": {
   "hash": "ba66de5986d9256513466eb4e98775d50d89d1f8f63cf5e0c1006ea51a06db43"
  },
  "kernelspec": {
   "display_name": "Python 3.8.8 64-bit ('venv': venv)",
   "language": "python",
   "name": "python3"
  },
  "language_info": {
   "codemirror_mode": {
    "name": "ipython",
    "version": 3
   },
   "file_extension": ".py",
   "mimetype": "text/x-python",
   "name": "python",
   "nbconvert_exporter": "python",
   "pygments_lexer": "ipython3",
   "version": "3.8.8"
  },
  "orig_nbformat": 4
 },
 "nbformat": 4,
 "nbformat_minor": 2
}
