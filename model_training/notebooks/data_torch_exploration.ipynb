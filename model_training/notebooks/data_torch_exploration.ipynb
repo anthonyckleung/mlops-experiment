{
 "cells": [
  {
   "cell_type": "markdown",
   "metadata": {},
   "source": [
    "# EDA and model experimentation with Haberman survival Dataset"
   ]
  },
  {
   "cell_type": "code",
   "execution_count": 145,
   "metadata": {},
   "outputs": [],
   "source": [
    "import hydra\n",
    "import numpy as np\n",
    "import os\n",
    "import onnxruntime as ort\n",
    "import pandas as pd\n",
    "import torch\n",
    "import torch.nn as nn \n",
    "import torchmetrics\n",
    "import pytorch_lightning as pl\n",
    "import wandb\n",
    "\n",
    "from dotenv import load_dotenv\n",
    "from hydra import initialize, initialize_config_module, initialize_config_dir, compose\n",
    "from omegaconf import OmegaConf\n",
    "from pytorch_lightning.loggers import WandbLogger\n",
    "from torch.utils.data import DataLoader, Dataset, random_split\n",
    "from torch.nn import functional as F\n",
    "from sklearn.metrics import accuracy_score\n"
   ]
  },
  {
   "cell_type": "code",
   "execution_count": 146,
   "metadata": {},
   "outputs": [
    {
     "data": {
      "text/plain": [
       "True"
      ]
     },
     "execution_count": 146,
     "metadata": {},
     "output_type": "execute_result"
    }
   ],
   "source": [
    "load_dotenv()"
   ]
  },
  {
   "cell_type": "code",
   "execution_count": 147,
   "metadata": {},
   "outputs": [
    {
     "name": "stdout",
     "output_type": "stream",
     "text": [
      "{'processing': 'batch_size:16', 'training': {'train_bs': 16, 'val_bs': 8, 'lr': 0.01, 'max_epoch': 10, 'log_every_n_steps': 2}}\n"
     ]
    }
   ],
   "source": [
    "# Load config file via Hydra\n",
    "with initialize(config_path=\"../configs\"):\n",
    "    cfg = compose(config_name=\"config.yaml\")\n",
    "    print(cfg)"
   ]
  },
  {
   "cell_type": "code",
   "execution_count": 148,
   "metadata": {},
   "outputs": [],
   "source": [
    "WANDB_API_KEY = os.getenv(\"WANDB_API_KEY\")"
   ]
  },
  {
   "cell_type": "code",
   "execution_count": 149,
   "metadata": {},
   "outputs": [
    {
     "name": "stderr",
     "output_type": "stream",
     "text": [
      "Failed to detect the name of this notebook, you can set it manually with the WANDB_NOTEBOOK_NAME environment variable to enable code saving.\n",
      "\u001b[34m\u001b[1mwandb\u001b[0m: Currently logged in as: \u001b[33manthonyckleung\u001b[0m (use `wandb login --relogin` to force relogin)\n",
      "\u001b[34m\u001b[1mwandb\u001b[0m: \u001b[33mWARNING\u001b[0m If you're specifying your api key in code, ensure this code is not shared publically.\n",
      "\u001b[34m\u001b[1mwandb\u001b[0m: \u001b[33mWARNING\u001b[0m Consider setting the WANDB_API_KEY environment variable, or running `wandb login` from the command line.\n",
      "\u001b[34m\u001b[1mwandb\u001b[0m: Appending key for api.wandb.ai to your netrc file: C:\\Users\\Anthony/.netrc\n"
     ]
    },
    {
     "data": {
      "text/plain": [
       "True"
      ]
     },
     "execution_count": 149,
     "metadata": {},
     "output_type": "execute_result"
    }
   ],
   "source": [
    "wandb.login(key=WANDB_API_KEY)"
   ]
  },
  {
   "cell_type": "code",
   "execution_count": 150,
   "metadata": {},
   "outputs": [],
   "source": [
    "wandb_logger = WandbLogger(project=\"MLOps Basics\")"
   ]
  },
  {
   "cell_type": "code",
   "execution_count": 151,
   "metadata": {},
   "outputs": [
    {
     "name": "stderr",
     "output_type": "stream",
     "text": [
      "Global seed set to 42\n"
     ]
    },
    {
     "data": {
      "text/plain": [
       "42"
      ]
     },
     "execution_count": 151,
     "metadata": {},
     "output_type": "execute_result"
    }
   ],
   "source": [
    "# Seed everything\n",
    "pl.seed_everything(42)"
   ]
  },
  {
   "cell_type": "code",
   "execution_count": 152,
   "metadata": {},
   "outputs": [
    {
     "data": {
      "text/plain": [
       "0"
      ]
     },
     "execution_count": 152,
     "metadata": {},
     "output_type": "execute_result"
    }
   ],
   "source": [
    "torch.cuda.device_count()"
   ]
  },
  {
   "cell_type": "code",
   "execution_count": 153,
   "metadata": {},
   "outputs": [],
   "source": [
    "df = pd.read_csv('../data/haberman.csv')"
   ]
  },
  {
   "cell_type": "code",
   "execution_count": 154,
   "metadata": {},
   "outputs": [
    {
     "data": {
      "text/html": [
       "<div>\n",
       "<style scoped>\n",
       "    .dataframe tbody tr th:only-of-type {\n",
       "        vertical-align: middle;\n",
       "    }\n",
       "\n",
       "    .dataframe tbody tr th {\n",
       "        vertical-align: top;\n",
       "    }\n",
       "\n",
       "    .dataframe thead th {\n",
       "        text-align: right;\n",
       "    }\n",
       "</style>\n",
       "<table border=\"1\" class=\"dataframe\">\n",
       "  <thead>\n",
       "    <tr style=\"text-align: right;\">\n",
       "      <th></th>\n",
       "      <th>age</th>\n",
       "      <th>year</th>\n",
       "      <th>n_auxillary_nodes</th>\n",
       "      <th>status</th>\n",
       "    </tr>\n",
       "  </thead>\n",
       "  <tbody>\n",
       "    <tr>\n",
       "      <th>0</th>\n",
       "      <td>30</td>\n",
       "      <td>64</td>\n",
       "      <td>1</td>\n",
       "      <td>1</td>\n",
       "    </tr>\n",
       "    <tr>\n",
       "      <th>1</th>\n",
       "      <td>30</td>\n",
       "      <td>62</td>\n",
       "      <td>3</td>\n",
       "      <td>1</td>\n",
       "    </tr>\n",
       "    <tr>\n",
       "      <th>2</th>\n",
       "      <td>30</td>\n",
       "      <td>65</td>\n",
       "      <td>0</td>\n",
       "      <td>1</td>\n",
       "    </tr>\n",
       "    <tr>\n",
       "      <th>3</th>\n",
       "      <td>31</td>\n",
       "      <td>59</td>\n",
       "      <td>2</td>\n",
       "      <td>1</td>\n",
       "    </tr>\n",
       "    <tr>\n",
       "      <th>4</th>\n",
       "      <td>31</td>\n",
       "      <td>65</td>\n",
       "      <td>4</td>\n",
       "      <td>1</td>\n",
       "    </tr>\n",
       "  </tbody>\n",
       "</table>\n",
       "</div>"
      ],
      "text/plain": [
       "   age  year  n_auxillary_nodes  status\n",
       "0   30    64                  1       1\n",
       "1   30    62                  3       1\n",
       "2   30    65                  0       1\n",
       "3   31    59                  2       1\n",
       "4   31    65                  4       1"
      ]
     },
     "execution_count": 154,
     "metadata": {},
     "output_type": "execute_result"
    }
   ],
   "source": [
    "df.head()"
   ]
  },
  {
   "cell_type": "code",
   "execution_count": 155,
   "metadata": {},
   "outputs": [
    {
     "data": {
      "text/plain": [
       "age                  int64\n",
       "year                 int64\n",
       "n_auxillary_nodes    int64\n",
       "status               int64\n",
       "dtype: object"
      ]
     },
     "execution_count": 155,
     "metadata": {},
     "output_type": "execute_result"
    }
   ],
   "source": [
    "df.dtypes"
   ]
  },
  {
   "cell_type": "code",
   "execution_count": 156,
   "metadata": {},
   "outputs": [
    {
     "data": {
      "text/plain": [
       "2"
      ]
     },
     "execution_count": 156,
     "metadata": {},
     "output_type": "execute_result"
    }
   ],
   "source": [
    "df['status'].nunique()"
   ]
  },
  {
   "cell_type": "code",
   "execution_count": 157,
   "metadata": {},
   "outputs": [],
   "source": [
    "class Config:\n",
    "    file_path = '../data/haberman.csv'\n",
    "    lr = 1e-5\n",
    "    max_len = 64\n",
    "    train_bs = 16\n",
    "    val_bs = 8\n",
    "    trainval_pcent = 0.80\n",
    "    num_workers = 8"
   ]
  },
  {
   "cell_type": "code",
   "execution_count": 158,
   "metadata": {},
   "outputs": [],
   "source": [
    "class HabermanData(Dataset):\n",
    "    def __init__(self, data_df):\n",
    "        data_df = data_df.reset_index(drop=True)\n",
    "        self.features = data_df[['age','year', 'n_auxillary_nodes']].values\n",
    "        self.target = data_df['status'].values\n",
    "        \n",
    "    def __len__(self):\n",
    "        return len(self.target)\n",
    "\n",
    "    def __getitem__(self, idx):\n",
    "        features = torch.tensor(self.features[idx], dtype=torch.float)\n",
    "        targets = torch.tensor(self.target[idx], dtype = torch.long)\n",
    "\n",
    "        return {\"features\": features,\n",
    "                \"targets\": targets}"
   ]
  },
  {
   "cell_type": "code",
   "execution_count": 159,
   "metadata": {},
   "outputs": [],
   "source": [
    "class HabermanDataModule(pl.LightningDataModule):\n",
    "    def __init__(self, data_path, train_bs, val_bs):\n",
    "        super().__init__()\n",
    "        self.data = pd.read_csv(data_path)\n",
    "        self.train_bs = train_bs \n",
    "        self.val_bs = val_bs\n",
    "        \n",
    "    def setup(self, stage=None):\n",
    "        data = self.data.sample(frac=1).reset_index(drop=True)\n",
    "        data['status'] = data['status'] - 1\n",
    "\n",
    "        dataset = HabermanData(data)\n",
    "\n",
    "        # Split data into train, validation, and testing\n",
    "        trainval_size = int(0.8 * len(data))\n",
    "        train_size = int(trainval_size*0.8)\n",
    "\n",
    "        val_size = trainval_size - train_size\n",
    "        test_size = len(data) - trainval_size\n",
    "\n",
    "        trainval_set, test_set = random_split(dataset, [trainval_size, test_size])\n",
    "        train_set, val_set = random_split(trainval_set, [train_size, val_size])\n",
    "        \n",
    "        if (stage == 'fit') or (stage is None):\n",
    "            self.training_set = train_set\n",
    "            self.validation_set = val_set\n",
    "        \n",
    "        if stage == 'test':\n",
    "            self.testing_set = test_set\n",
    " \n",
    "    def train_dataloader(self):\n",
    "        train_loader = DataLoader(\n",
    "            self.training_set,\n",
    "            batch_size = self.train_bs,\n",
    "            shuffle=False,\n",
    "            num_workers = 0\n",
    "        )\n",
    "        return train_loader\n",
    "\n",
    "    def val_dataloader(self):\n",
    "        val_loader = DataLoader(\n",
    "            self.validation_set,\n",
    "            batch_size = self.val_bs,\n",
    "            shuffle=False,\n",
    "            num_workers = 0\n",
    "        )\n",
    "        return val_loader\n",
    "\n",
    "    def test_dataloader(self):\n",
    "        test_loader = DataLoader(\n",
    "            self.testing_set,\n",
    "            batch_size = self.val_bs,\n",
    "            shuffle=False,\n",
    "            num_workers = 0\n",
    "        )\n",
    "        return test_loader\n",
    "        "
   ]
  },
  {
   "cell_type": "code",
   "execution_count": 160,
   "metadata": {},
   "outputs": [],
   "source": [
    "class HabermanANN(pl.LightningModule):\n",
    "    def __init__(self, lr=1e-2):\n",
    "        super(HabermanANN, self).__init__()\n",
    "        self.num_classes = 2\n",
    "        self.save_hyperparameters()\n",
    "        self.fc1 = nn.Linear(3, 10)\n",
    "        self.fc2 = nn.Linear(10, 2)\n",
    "\n",
    "        self.ann = nn.Sequential(\n",
    "                nn.Linear(3, 10),\n",
    "                nn.ReLU(),\n",
    "                nn.Linear(10, 2),\n",
    "        )\n",
    "        self.train_accuracy_metric = torchmetrics.Accuracy()\n",
    "        self.val_accuracy_metric = torchmetrics.Accuracy()\n",
    "        self.f1_metric = torchmetrics.F1(num_classes=self.num_classes)\n",
    "        self.precision_macro_metric = torchmetrics.Precision(\n",
    "            average=\"macro\", num_classes=self.num_classes\n",
    "        )\n",
    "        self.recall_macro_metric = torchmetrics.Recall(\n",
    "            average=\"macro\", num_classes=self.num_classes\n",
    "        )\n",
    "        self.precision_micro_metric = torchmetrics.Precision(average=\"micro\")\n",
    "        self.recall_micro_metric = torchmetrics.Recall(average=\"micro\")\n",
    "        \n",
    "\n",
    "    def forward(self, x):\n",
    "        x = self.ann(x)\n",
    "        return x\n",
    "\n",
    "\n",
    "    def training_step(self, batch, batch_idx):\n",
    "        logits = self.forward(batch[\"features\"])\n",
    "        loss = self.loss_func(logits, batch['targets'])\n",
    "        train_acc = self.train_accuracy_metric(logits, batch[\"targets\"])\n",
    "        self.log(\"train/loss\", loss, prog_bar=True, on_epoch=True)\n",
    "        self.log(\"train/acc\", train_acc, prog_bar=True, on_epoch=True)\n",
    "        return loss\n",
    "\n",
    "    def validation_step(self, batch, batch_idx):\n",
    "        logits = self.forward(batch[\"features\"])\n",
    "        loss = self.loss_func(logits, batch['targets'])\n",
    "        _, preds = torch.max(logits, dim=1)\n",
    "        val_acc = accuracy_score(preds.cpu(), batch[\"targets\"].cpu())\n",
    "        val_acc = torch.tensor(val_acc)\n",
    "\n",
    "        # Metrics\n",
    "        valid_acc = self.val_accuracy_metric(preds, batch[\"targets\"])\n",
    "        precision_macro = self.precision_macro_metric(preds, batch[\"targets\"])\n",
    "        recall_macro = self.recall_macro_metric(preds, batch[\"targets\"])\n",
    "        precision_micro = self.precision_micro_metric(preds, batch[\"targets\"])\n",
    "        recall_micro = self.recall_micro_metric(preds, batch[\"targets\"])\n",
    "        f1 = self.f1_metric(preds, batch[\"targets\"])\n",
    "\n",
    "        self.log(\"val/loss\", loss, prog_bar=True, on_step=True)\n",
    "        self.log(\"val/acc\", val_acc, prog_bar=True)\n",
    "        self.log(\"val/precision_macro\", precision_macro, prog_bar=True)\n",
    "        self.log(\"val/recall_macro\",recall_macro, prog_bar=True)\n",
    "        self.log(\"val/precision_micro\", precision_micro, prog_bar=True)\n",
    "        self.log(\"val/recall_micro\", recall_micro, prog_bar=True)\n",
    "        self.log(\"val/f1\", f1, prog_bar=True)\n",
    "        return {\"targets\": batch[\"targets\"], \"logits\": logits}\n",
    "\n",
    "    def test_step(self, batch, batch_idx):\n",
    "        logits = self.forward(batch[\"features\"])\n",
    "        loss = self.loss_func(logits, batch['targets'])\n",
    "        _, preds = torch.max(logits, dim=1)\n",
    "        test_acc = accuracy_score(preds.cpu(), batch[\"targets\"].cpu())\n",
    "        self.log(\"test_loss\", loss)\n",
    "        self.log(\"test_acc\", test_acc) \n",
    "        \n",
    "\n",
    "    def loss_func(self, pred, target):\n",
    "        return F.cross_entropy(pred, target)\n",
    "\n",
    "    def validation_epoch_end(self, outputs):\n",
    "        labels = torch.cat([x[\"targets\"] for x in outputs])\n",
    "        logits = torch.cat([x[\"logits\"] for x in outputs])\n",
    "        preds = torch.argmax(logits, 1)\n",
    "\n",
    "        ## There are multiple ways to track the metrics\n",
    "        # 1. Confusion matrix plotting using inbuilt W&B method\n",
    "        self.logger.experiment.log(\n",
    "            {\n",
    "                \"conf\": wandb.plot.confusion_matrix(\n",
    "                    probs=logits.numpy(), y_true=labels.numpy()\n",
    "                )\n",
    "            }\n",
    "        )\n",
    "\n",
    "        # 2. Confusion Matrix plotting using scikit-learn method\n",
    "        # wandb.log({\"cm\": wandb.sklearn.plot_confusion_matrix(labels.numpy(), preds)})\n",
    "\n",
    "        # 3. Confusion Matric plotting using Seaborn\n",
    "        # data = confusion_matrix(labels.numpy(), preds.numpy())\n",
    "        # df_cm = pd.DataFrame(data, columns=np.unique(labels), index=np.unique(labels))\n",
    "        # df_cm.index.name = \"Actual\"\n",
    "        # df_cm.columns.name = \"Predicted\"\n",
    "        # plt.figure(figsize=(7, 4))\n",
    "        # plot = sns.heatmap(\n",
    "        #     df_cm, cmap=\"Blues\", annot=True, annot_kws={\"size\": 16}\n",
    "        # )  # font size\n",
    "        # self.logger.experiment.log({\"Confusion Matrix\": wandb.Image(plot)})\n",
    "\n",
    "        # self.logger.experiment.log(\n",
    "        #     {\"roc\": wandb.plot.roc_curve(labels.numpy(), logits.numpy())}\n",
    "        # )\n",
    "\n",
    "    def configure_optimizers(self):\n",
    "        return torch.optim.Adam(self.parameters(), lr=self.hparams[\"lr\"])"
   ]
  },
  {
   "cell_type": "code",
   "execution_count": 161,
   "metadata": {},
   "outputs": [],
   "source": [
    "class SamplesVisualisationLogger(pl.Callback):\n",
    "    def __init__(self, datamodule):\n",
    "        super().__init__()\n",
    "        self.datamodule = datamodule\n",
    "\n",
    "    def on_validation_end(self, trainer, pl_module):\n",
    "        # can be done on complete dataset also\n",
    "        val_batch = next(iter(self.datamodule.val_dataloader()))\n",
    "        input = val_batch[\"features\"]\n",
    "\n",
    "        # get the predictions\n",
    "        outputs = pl_module(input)\n",
    "        preds = torch.argmax(outputs, 1)\n",
    "        labels = val_batch[\"targets\"]\n",
    "\n",
    "        # predicted and labelled data\n",
    "        df = pd.DataFrame(data=input, columns=['age', 'year', 'n_aux_nodes'])\n",
    "        df['Label'] = labels.numpy()\n",
    "        df['Predicted'] = preds.numpy()\n",
    "\n",
    "        # wrongly predicted data\n",
    "        wrong_df = df[df[\"Label\"] != df[\"Predicted\"]]\n",
    "\n",
    "        # Logging wrongly predicted dataframe as a table\n",
    "        trainer.logger.experiment.log(\n",
    "            {\n",
    "                \"examples\": wandb.Table(dataframe=wrong_df, allow_mixed_types=True),\n",
    "                \"global_step\": trainer.global_step,\n",
    "            }\n",
    "        )"
   ]
  },
  {
   "cell_type": "markdown",
   "metadata": {},
   "source": [
    "# Training"
   ]
  },
  {
   "cell_type": "code",
   "execution_count": 162,
   "metadata": {},
   "outputs": [],
   "source": [
    "# Callback\n",
    "checkpoint_callback = pl.callbacks.ModelCheckpoint(\n",
    "    dirpath = \"./models\",\n",
    "    filename=\"best-checkpoint\",\n",
    "    monitor = \"val/loss\",\n",
    "    mode = \"min\"\n",
    ")"
   ]
  },
  {
   "cell_type": "code",
   "execution_count": 163,
   "metadata": {},
   "outputs": [],
   "source": [
    "# @hydra.main(config_path=\"../configs\", config_name=\"config\")\n",
    "def train(cfg):\n",
    "    print(OmegaConf.to_yaml(cfg))\n",
    "    data = HabermanDataModule('../data/haberman.csv', cfg.training.train_bs, cfg.training.val_bs)\n",
    "    model = HabermanANN()\n",
    "\n",
    "    trainer = pl.Trainer(\n",
    "        # gpus=(1 if torch.cuda.is_available() else 0),\n",
    "        max_epochs=10,\n",
    "        fast_dev_run=False,\n",
    "        accelerator='cpu',\n",
    "        log_every_n_steps = 5,\n",
    "        logger=wandb_logger,\n",
    "        callbacks = [checkpoint_callback, SamplesVisualisationLogger(data)]\n",
    "    )\n",
    "    trainer.fit(model, data)\n",
    "\n",
    "    # Perform evaluation\n",
    "    trainer.test(model, data)"
   ]
  },
  {
   "cell_type": "code",
   "execution_count": 164,
   "metadata": {},
   "outputs": [
    {
     "name": "stderr",
     "output_type": "stream",
     "text": [
      "GPU available: False, used: False\n",
      "TPU available: False, using: 0 TPU cores\n",
      "IPU available: False, using: 0 IPUs\n"
     ]
    },
    {
     "name": "stdout",
     "output_type": "stream",
     "text": [
      "processing: batch_size:16\n",
      "training:\n",
      "  train_bs: 16\n",
      "  val_bs: 8\n",
      "  lr: 0.01\n",
      "  max_epoch: 10\n",
      "  log_every_n_steps: 2\n",
      "\n"
     ]
    },
    {
     "name": "stderr",
     "output_type": "stream",
     "text": [
      "e:\\Projects\\mlops-experiment\\venv\\lib\\site-packages\\IPython\\html.py:12: ShimWarning: The `IPython.html` package has been deprecated since IPython 4.0. You should import from `notebook` instead. `IPython.html.widgets` has moved to `ipywidgets`.\n",
      "  warn(\"The `IPython.html` package has been deprecated since IPython 4.0. \"\n",
      "\u001b[34m\u001b[1mwandb\u001b[0m: wandb version 0.12.9 is available!  To upgrade, please run:\n",
      "\u001b[34m\u001b[1mwandb\u001b[0m:  $ pip install wandb --upgrade\n"
     ]
    },
    {
     "data": {
      "text/html": [
       "\n",
       "                    Syncing run <strong><a href=\"https://wandb.ai/anthonyckleung/MLOps%20Basics/runs/3m2994ji\" target=\"_blank\">tough-thunder-4</a></strong> to <a href=\"https://wandb.ai/anthonyckleung/MLOps%20Basics\" target=\"_blank\">Weights & Biases</a> (<a href=\"https://docs.wandb.com/integrations/jupyter.html\" target=\"_blank\">docs</a>).<br/>\n",
       "\n",
       "                "
      ],
      "text/plain": [
       "<IPython.core.display.HTML object>"
      ]
     },
     "metadata": {},
     "output_type": "display_data"
    },
    {
     "name": "stderr",
     "output_type": "stream",
     "text": [
      "\n",
      "  | Name                   | Type       | Params\n",
      "------------------------------------------------------\n",
      "0 | fc1                    | Linear     | 40    \n",
      "1 | fc2                    | Linear     | 22    \n",
      "2 | ann                    | Sequential | 62    \n",
      "3 | train_accuracy_metric  | Accuracy   | 0     \n",
      "4 | val_accuracy_metric    | Accuracy   | 0     \n",
      "5 | f1_metric              | F1         | 0     \n",
      "6 | precision_macro_metric | Precision  | 0     \n",
      "7 | recall_macro_metric    | Recall     | 0     \n",
      "8 | precision_micro_metric | Precision  | 0     \n",
      "9 | recall_micro_metric    | Recall     | 0     \n",
      "------------------------------------------------------\n",
      "124       Trainable params\n",
      "0         Non-trainable params\n",
      "124       Total params\n",
      "0.000     Total estimated model params size (MB)\n",
      "e:\\Projects\\mlops-experiment\\venv\\lib\\site-packages\\pytorch_lightning\\callbacks\\model_checkpoint.py:623: UserWarning: Checkpoint directory E:\\Projects\\mlops-experiment\\notebooks\\models exists and is not empty.\n",
      "  rank_zero_warn(f\"Checkpoint directory {dirpath} exists and is not empty.\")\n"
     ]
    },
    {
     "name": "stdout",
     "output_type": "stream",
     "text": [
      "Validation sanity check:   0%|          | 0/2 [00:00<?, ?it/s]"
     ]
    },
    {
     "name": "stderr",
     "output_type": "stream",
     "text": [
      "e:\\Projects\\mlops-experiment\\venv\\lib\\site-packages\\pytorch_lightning\\trainer\\data_loading.py:116: UserWarning: The dataloader, val_dataloader 0, does not have many workers which may be a bottleneck. Consider increasing the value of the `num_workers` argument` (try 8 which is the number of cpus on this machine) in the `DataLoader` init to improve performance.\n",
      "  rank_zero_warn(\n"
     ]
    },
    {
     "name": "stdout",
     "output_type": "stream",
     "text": [
      "                                                                      "
     ]
    },
    {
     "name": "stderr",
     "output_type": "stream",
     "text": [
      "Global seed set to 42\n",
      "e:\\Projects\\mlops-experiment\\venv\\lib\\site-packages\\pytorch_lightning\\trainer\\trainer.py:685: UserWarning: Detected KeyboardInterrupt, attempting graceful shutdown...\n",
      "  rank_zero_warn(\"Detected KeyboardInterrupt, attempting graceful shutdown...\")\n",
      "e:\\Projects\\mlops-experiment\\venv\\lib\\site-packages\\pytorch_lightning\\trainer\\data_loading.py:116: UserWarning: The dataloader, test_dataloader 0, does not have many workers which may be a bottleneck. Consider increasing the value of the `num_workers` argument` (try 8 which is the number of cpus on this machine) in the `DataLoader` init to improve performance.\n",
      "  rank_zero_warn(\n"
     ]
    },
    {
     "name": "stdout",
     "output_type": "stream",
     "text": [
      "Testing: 0it [00:00, ?it/s]--------------------------------------------------------------------------------\n",
      "DATALOADER:0 TEST RESULTS\n",
      "{'test_acc': 0.8548387289047241, 'test_loss': 0.4579375982284546}\n",
      "--------------------------------------------------------------------------------\n",
      "Testing: 100%|██████████| 8/8 [00:00<00:00, 235.33it/s]\n"
     ]
    }
   ],
   "source": [
    "train(cfg)"
   ]
  },
  {
   "cell_type": "code",
   "execution_count": null,
   "metadata": {},
   "outputs": [],
   "source": []
  },
  {
   "cell_type": "code",
   "execution_count": null,
   "metadata": {},
   "outputs": [],
   "source": [
    "class HabermanPredictor:\n",
    "    def __init__(self, model_path):\n",
    "        self.model_path = model_path \n",
    "        self.model = HabermanANN.load_from_checkpoint(model_path)\n",
    "        self.model.eval()\n",
    "        self.model.freeze()\n",
    "        # self.processor = HabermanDataModule(\"../data/haberman.csv\", cfg.training.train_bs, cfg.training.val_bs)\n",
    "        self.softmax = torch.nn.Softmax(dim=0)\n",
    "        self.labels = [\"survived\", \"did not survived\"]\n",
    "\n",
    "    def predict(self, input):\n",
    "        logits = self.model(\n",
    "            torch.tensor([input], dtype=torch.float)\n",
    "        )\n",
    "        print(type(logits))\n",
    "        print(logits)\n",
    "        scores = self.softmax(logits[0]).tolist()\n",
    "        predictions = []\n",
    "        for score, label in zip(scores, self.labels):\n",
    "            predictions.append({'label': label, 'score': score})\n",
    "        return predictions\n"
   ]
  },
  {
   "cell_type": "code",
   "execution_count": null,
   "metadata": {},
   "outputs": [],
   "source": [
    "predictor = HabermanPredictor(\"./models/best-checkpoint.ckpt\")"
   ]
  },
  {
   "cell_type": "code",
   "execution_count": null,
   "metadata": {},
   "outputs": [
    {
     "name": "stdout",
     "output_type": "stream",
     "text": [
      "<class 'torch.Tensor'>\n",
      "tensor([[-12.8993, -14.3466]])\n"
     ]
    },
    {
     "data": {
      "text/plain": [
       "[{'label': 'survived', 'score': 0.8095929622650146},\n",
       " {'label': 'did not survived', 'score': 0.19040700793266296}]"
      ]
     },
     "execution_count": 110,
     "metadata": {},
     "output_type": "execute_result"
    }
   ],
   "source": [
    "predictor.predict([34, 60, 0])"
   ]
  },
  {
   "cell_type": "markdown",
   "metadata": {},
   "source": [
    "# Convert to ONNX"
   ]
  },
  {
   "cell_type": "code",
   "execution_count": null,
   "metadata": {},
   "outputs": [],
   "source": [
    "model = HabermanANN.load_from_checkpoint(\"./models/best-checkpoint.ckpt\")"
   ]
  },
  {
   "cell_type": "code",
   "execution_count": null,
   "metadata": {},
   "outputs": [],
   "source": [
    "data_model = HabermanDataModule('../data/haberman.csv', cfg.training.train_bs, cfg.training.val_bs)\n",
    "data_model.prepare_data()\n",
    "data_model.setup()\n",
    "input_batch = next(iter(data_model.train_dataloader()))\n",
    "\n",
    "input_sample = {\n",
    "    \"features\": input_batch[\"features\"][0]\n",
    "}"
   ]
  },
  {
   "cell_type": "code",
   "execution_count": null,
   "metadata": {},
   "outputs": [
    {
     "data": {
      "text/plain": [
       "{'features': tensor([57., 69.,  0.])}"
      ]
     },
     "execution_count": 129,
     "metadata": {},
     "output_type": "execute_result"
    }
   ],
   "source": [
    "input_sample"
   ]
  },
  {
   "cell_type": "code",
   "execution_count": null,
   "metadata": {},
   "outputs": [],
   "source": [
    "model.to_onnx(\"./models/model.onnx\",\n",
    "    input_sample=input_sample['features'],\n",
    "    export_params=True,\n",
    "    opset_version=10,\n",
    "    input_names = ['input'],\n",
    "    output_names = ['output'],\n",
    "    dynamic_axes = {\n",
    "        'input': {0: 'batch_size'},\n",
    "        'output': {0: 'batch_size'}\n",
    "    }\n",
    ")"
   ]
  },
  {
   "cell_type": "markdown",
   "metadata": {},
   "source": [
    "## Inference "
   ]
  },
  {
   "cell_type": "code",
   "execution_count": null,
   "metadata": {},
   "outputs": [
    {
     "name": "stdout",
     "output_type": "stream",
     "text": [
      "['TensorrtExecutionProvider', 'CUDAExecutionProvider', 'MIGraphXExecutionProvider', 'ROCMExecutionProvider', 'OpenVINOExecutionProvider', 'DnnlExecutionProvider', 'NupharExecutionProvider', 'VitisAIExecutionProvider', 'NnapiExecutionProvider', 'CoreMLExecutionProvider', 'ArmNNExecutionProvider', 'ACLExecutionProvider', 'DmlExecutionProvider', 'RknpuExecutionProvider', 'CPUExecutionProvider']\n"
     ]
    }
   ],
   "source": [
    "print(ort.get_all_providers())"
   ]
  },
  {
   "cell_type": "code",
   "execution_count": null,
   "metadata": {},
   "outputs": [],
   "source": [
    "onnx_model_path = \"./models/model.onnx\"\n",
    "ort_session = ort.InferenceSession(onnx_model_path)"
   ]
  },
  {
   "cell_type": "code",
   "execution_count": null,
   "metadata": {},
   "outputs": [
    {
     "data": {
      "text/plain": [
       "list"
      ]
     },
     "execution_count": 135,
     "metadata": {},
     "output_type": "execute_result"
    }
   ],
   "source": [
    "type(ort_session.run(None, {'input':[23,1,1]}))"
   ]
  },
  {
   "cell_type": "code",
   "execution_count": 165,
   "metadata": {},
   "outputs": [],
   "source": [
    "import time\n",
    "from functools import wraps\n",
    "\n",
    "\n",
    "def timing(f):\n",
    "    \"\"\"Decorator for timing functions\n",
    "    Usage:\n",
    "    @timing\n",
    "    def function(a):\n",
    "        pass\n",
    "    \"\"\"\n",
    "\n",
    "    @wraps(f)\n",
    "    def wrapper(*args, **kwargs):\n",
    "        start = time.time()\n",
    "        result = f(*args, **kwargs)\n",
    "        end = time.time()\n",
    "        print(\"function:%r took: %2.5f sec\" % (f.__name__, end - start))\n",
    "        return result\n",
    "\n",
    "    return wrapper"
   ]
  },
  {
   "cell_type": "code",
   "execution_count": 166,
   "metadata": {},
   "outputs": [],
   "source": [
    "class HabermanPredictorONNX:\n",
    "    def __init__(self, model_path):\n",
    "        self.ort_session = ort.InferenceSession(model_path)\n",
    "        self.processor = HabermanDataModule(\"../data/haberman.csv\", cfg.training.train_bs, cfg.training.val_bs)\n",
    "        self.softmax = torch.nn.Softmax(dim=0)\n",
    "        self.labels = [\"survived\", \"did not survived\"]\n",
    "\n",
    "    @timing\n",
    "    def predict(self, input):\n",
    "        ort_inputs =  {\"input\": torch.tensor(input, dtype=torch.float)\n",
    "        }\n",
    "        # print(ort_inputs)\n",
    "        logits = self.ort_session.run(None,{'input':input}\n",
    "        )\n",
    "        # print(type(logits))\n",
    "        # print(logits[0])\n",
    "        logits = torch.tensor(logits, dtype=torch.float)\n",
    "        scores = self.softmax(logits[0]).tolist()\n",
    "        predictions = []\n",
    "        for score, label in zip(scores, self.labels):\n",
    "            predictions.append({'label': label, 'score': score})\n",
    "        return predictions"
   ]
  },
  {
   "cell_type": "code",
   "execution_count": 167,
   "metadata": {},
   "outputs": [],
   "source": [
    "onnx_predictor = HabermanPredictorONNX(onnx_model_path)"
   ]
  },
  {
   "cell_type": "code",
   "execution_count": 168,
   "metadata": {},
   "outputs": [
    {
     "name": "stdout",
     "output_type": "stream",
     "text": [
      "function:'predict' took: 0.00100 sec\n"
     ]
    },
    {
     "data": {
      "text/plain": [
       "[{'label': 'survived', 'score': 0.8095929622650146},\n",
       " {'label': 'did not survived', 'score': 0.19040700793266296}]"
      ]
     },
     "execution_count": 168,
     "metadata": {},
     "output_type": "execute_result"
    }
   ],
   "source": [
    "onnx_predictor.predict([34, 60, 0])"
   ]
  },
  {
   "cell_type": "code",
   "execution_count": 172,
   "metadata": {},
   "outputs": [
    {
     "name": "stdout",
     "output_type": "stream",
     "text": [
      "function:'predict' took: 0.00100 sec\n",
      "function:'predict' took: 0.00000 sec\n",
      "function:'predict' took: 0.00100 sec\n",
      "function:'predict' took: 0.00000 sec\n",
      "function:'predict' took: 0.00100 sec\n",
      "function:'predict' took: 0.00000 sec\n",
      "function:'predict' took: 0.00100 sec\n",
      "function:'predict' took: 0.00000 sec\n",
      "function:'predict' took: 0.00000 sec\n",
      "function:'predict' took: 0.00100 sec\n"
     ]
    }
   ],
   "source": [
    "batch_inputs = [[34, 60, 0]] *10\n",
    "\n",
    "for feature in batch_inputs:\n",
    "    onnx_predictor.predict(feature)"
   ]
  },
  {
   "cell_type": "code",
   "execution_count": null,
   "metadata": {},
   "outputs": [],
   "source": []
  }
 ],
 "metadata": {
  "interpreter": {
   "hash": "ba66de5986d9256513466eb4e98775d50d89d1f8f63cf5e0c1006ea51a06db43"
  },
  "kernelspec": {
   "display_name": "Python 3.8.8 64-bit ('venv': venv)",
   "language": "python",
   "name": "python3"
  },
  "language_info": {
   "codemirror_mode": {
    "name": "ipython",
    "version": 3
   },
   "file_extension": ".py",
   "mimetype": "text/x-python",
   "name": "python",
   "nbconvert_exporter": "python",
   "pygments_lexer": "ipython3",
   "version": "3.8.8"
  },
  "orig_nbformat": 4
 },
 "nbformat": 4,
 "nbformat_minor": 2
}
